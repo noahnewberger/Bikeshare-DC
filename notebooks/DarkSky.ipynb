{
 "cells": [
  {
   "cell_type": "markdown",
   "metadata": {},
   "source": [
    "# Cleaning and summary statistics for weather data pulled using the Dark Sky API\n",
    "## Work in progress\n",
    "\n",
    "To come:\n",
    "* Variable definitions\n",
    "* Plots (KDE/Histogram)\n",
    "* Notes about summary statistics \n",
    "* Winsorization?"
   ]
  },
  {
   "cell_type": "code",
   "execution_count": 1,
   "metadata": {},
   "outputs": [
    {
     "data": {
      "text/plain": [
       "(2922, 27)"
      ]
     },
     "execution_count": 1,
     "metadata": {},
     "output_type": "execute_result"
    }
   ],
   "source": [
    "import pandas as pd\n",
    "\n",
    "df = pd.read_csv('C:\\\\Users\\\\slbau\\\\git\\\\Bikeshare-DC\\\\data\\\\Dark_Sky_2010_2017.csv', parse_dates=[0], infer_datetime_format=True)\n",
    "df.shape\n"
   ]
  },
  {
   "cell_type": "code",
   "execution_count": 2,
   "metadata": {
    "collapsed": true
   },
   "outputs": [],
   "source": [
    "# creating weather dummies\n",
    "df = pd.concat([df, pd.get_dummies(df['precipType'])], axis=1)"
   ]
  },
  {
   "cell_type": "code",
   "execution_count": 3,
   "metadata": {
    "collapsed": true
   },
   "outputs": [],
   "source": [
    "# converting Unix time to human-readable time\n",
    "df['apparentTemperatureHighTime'] = pd.to_datetime(df['apparentTemperatureHighTime'],unit='s')\n",
    "df['apparentTemperatureLowTime'] = pd.to_datetime(df['apparentTemperatureLowTime'],unit='s')\n",
    "df['precipIntensityMaxTime'] = pd.to_datetime(df['precipIntensityMaxTime'],unit='s')\n",
    "df['sunriseTime'] = pd.to_datetime(df['sunriseTime'],unit='s')\n",
    "df['sunsetTime'] = pd.to_datetime(df['sunsetTime'],unit='s')\n",
    "df['temperatureHighTime'] = pd.to_datetime(df['temperatureHighTime'],unit='s')\n",
    "df['temperatureLowTime'] = pd.to_datetime(df['temperatureLowTime'],unit='s')"
   ]
  },
  {
   "cell_type": "code",
   "execution_count": 4,
   "metadata": {},
   "outputs": [
    {
     "name": "stdout",
     "output_type": "stream",
     "text": [
      "       apparentTemperatureHigh  apparentTemperatureLow   cloudCover  \\\n",
      "count              2922.000000             2922.000000  2916.000000   \n",
      "mean                 65.450681               49.659582     0.353282   \n",
      "std                  20.745388               19.736641     0.249634   \n",
      "min                   2.240000              -10.840000     0.000000   \n",
      "25%                  51.045000               33.285000     0.160000   \n",
      "50%                  67.595000               52.240000     0.280000   \n",
      "75%                  82.245000               67.270000     0.480000   \n",
      "max                 113.670000               90.060000     1.000000   \n",
      "\n",
      "          dewPoint     humidity    moonPhase  precipAccumulation  \\\n",
      "count  2922.000000  2922.000000  2922.000000          124.000000   \n",
      "mean     46.026218     0.667645     0.500065            1.182863   \n",
      "std      18.536844     0.135031     0.288220            2.406253   \n",
      "min      -9.730000     0.210000     0.000000            0.000000   \n",
      "25%      31.220000     0.570000     0.250000            0.116000   \n",
      "50%      48.070000     0.670000     0.490000            0.316500   \n",
      "75%      62.650000     0.760000     0.750000            1.411750   \n",
      "max      75.840000     0.970000     0.990000           21.427000   \n",
      "\n",
      "       precipIntensity  precipIntensityMax  precipProbability     pressure  \\\n",
      "count      2922.000000         2922.000000        2922.000000  2922.000000   \n",
      "mean          0.003873            0.029613           0.286116  1017.175352   \n",
      "std           0.012069            0.073046           0.375338     6.886943   \n",
      "min           0.000000            0.000000           0.000000   987.630000   \n",
      "25%           0.000000            0.000000           0.000000  1012.790000   \n",
      "50%           0.000000            0.000900           0.000000  1016.895000   \n",
      "75%           0.002600            0.025600           0.660000  1021.490000   \n",
      "max           0.422000            1.184700           1.000000  1042.490000   \n",
      "\n",
      "       temperatureHigh  temperatureLow          time   visibility  \\\n",
      "count      2922.000000     2922.000000  2.922000e+03  2922.000000   \n",
      "mean         65.626119       51.641342  1.388507e+09     9.307149   \n",
      "std          18.057275       16.638131  7.289161e+07     1.119278   \n",
      "min          17.130000        4.270000  1.262322e+09     1.130000   \n",
      "25%          51.045000       37.525000  1.325416e+09     9.142500   \n",
      "50%          67.550000       52.240000  1.388509e+09     9.780000   \n",
      "75%          81.347500       66.727500  1.451603e+09     9.980000   \n",
      "max         101.460000       83.260000  1.514696e+09    10.000000   \n",
      "\n",
      "       windBearing    windSpeed  daylightHours         rain         snow  \n",
      "count  2922.000000  2922.000000    2922.000000  2922.000000  2922.000000  \n",
      "mean    209.615332     5.352420      12.197063     0.454825     0.042437  \n",
      "std      99.007546     3.143633       1.878743     0.498040     0.201618  \n",
      "min       0.000000     0.030000       9.434722     0.000000     0.000000  \n",
      "25%     153.000000     3.070000      10.374792     0.000000     0.000000  \n",
      "50%     205.000000     4.810000      12.224167     0.000000     0.000000  \n",
      "75%     302.000000     6.957500      14.024167     1.000000     0.000000  \n",
      "max     359.000000    20.660000      14.897500     1.000000     1.000000  \n"
     ]
    }
   ],
   "source": [
    "# summary statistics\n",
    "print(df.describe())"
   ]
  }
 ],
 "metadata": {
  "kernelspec": {
   "display_name": "Python 3",
   "language": "python",
   "name": "python3"
  },
  "language_info": {
   "codemirror_mode": {
    "name": "ipython",
    "version": 3
   },
   "file_extension": ".py",
   "mimetype": "text/x-python",
   "name": "python",
   "nbconvert_exporter": "python",
   "pygments_lexer": "ipython3",
   "version": "3.6.3"
  }
 },
 "nbformat": 4,
 "nbformat_minor": 2
}
