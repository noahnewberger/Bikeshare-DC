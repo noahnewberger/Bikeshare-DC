{
 "cells": [
  {
   "cell_type": "markdown",
   "metadata": {},
   "source": [
    "# Cleaning and summary statistics for weather data pulled using the Dark Sky API\n",
    "## Work in progress\n",
    "\n",
    "To come:\n",
    "* Variable definitions\n",
    "* Notes about summary statistics \n",
    "* Splitting the datetime variables into separate date and time portions?"
   ]
  },
  {
   "cell_type": "code",
   "execution_count": 1,
   "metadata": {},
   "outputs": [
    {
     "data": {
      "text/plain": [
       "(2922, 27)"
      ]
     },
     "execution_count": 1,
     "metadata": {},
     "output_type": "execute_result"
    }
   ],
   "source": [
    "import numpy as np\n",
    "import pandas as pd\n",
    "import matplotlib.pyplot as plt\n",
    "from sklearn.neighbors import KernelDensity\n",
    "\n",
    "df = pd.read_csv(r'C:\\Users\\slbau\\git\\Bikeshare-DC\\data\\Dark_Sky_2010_2017.csv', parse_dates=[0], infer_datetime_format=True)\n",
    "df.shape\n"
   ]
  },
  {
   "cell_type": "code",
   "execution_count": 2,
   "metadata": {},
   "outputs": [
    {
     "name": "stdout",
     "output_type": "stream",
     "text": [
      "Index(['date', 'apparentTemperatureHigh', 'apparentTemperatureHighTime',\n",
      "       'apparentTemperatureLow', 'apparentTemperatureLowTime', 'cloudCover',\n",
      "       'dewPoint', 'humidity', 'moonPhase', 'precipAccumulation',\n",
      "       'precipIntensity', 'precipIntensityMax', 'precipIntensityMaxTime',\n",
      "       'precipProbability', 'precipType', 'pressure', 'sunriseTime',\n",
      "       'sunsetTime', 'temperatureHigh', 'temperatureHighTime',\n",
      "       'temperatureLow', 'temperatureLowTime', 'time', 'visibility',\n",
      "       'windBearing', 'windSpeed', 'daylightHours', 'rain_dummy',\n",
      "       'snow_dummy'],\n",
      "      dtype='object')\n"
     ]
    }
   ],
   "source": [
    "# creating weather dummies\n",
    "df = pd.concat([df, pd.get_dummies(df['precipType'])], axis=1)\n",
    "df.rename(columns = {'rain':'rain_dummy','snow':'snow_dummy'}, inplace = True)\n",
    "\n",
    "df.shape\n",
    "print(df.columns)\n",
    "\n"
   ]
  },
  {
   "cell_type": "code",
   "execution_count": 3,
   "metadata": {},
   "outputs": [
    {
     "data": {
      "text/html": [
       "<div>\n",
       "<style>\n",
       "    .dataframe thead tr:only-child th {\n",
       "        text-align: right;\n",
       "    }\n",
       "\n",
       "    .dataframe thead th {\n",
       "        text-align: left;\n",
       "    }\n",
       "\n",
       "    .dataframe tbody tr th {\n",
       "        vertical-align: top;\n",
       "    }\n",
       "</style>\n",
       "<table border=\"1\" class=\"dataframe\">\n",
       "  <thead>\n",
       "    <tr style=\"text-align: right;\">\n",
       "      <th></th>\n",
       "      <th>date</th>\n",
       "      <th>apparentTemperatureHigh</th>\n",
       "      <th>apparentTemperatureHighTime</th>\n",
       "      <th>apparentTemperatureLow</th>\n",
       "      <th>apparentTemperatureLowTime</th>\n",
       "      <th>cloudCover</th>\n",
       "      <th>dewPoint</th>\n",
       "      <th>humidity</th>\n",
       "      <th>moonPhase</th>\n",
       "      <th>precipAccumulation</th>\n",
       "      <th>...</th>\n",
       "      <th>temperatureHighTime</th>\n",
       "      <th>temperatureLow</th>\n",
       "      <th>temperatureLowTime</th>\n",
       "      <th>time</th>\n",
       "      <th>visibility</th>\n",
       "      <th>windBearing</th>\n",
       "      <th>windSpeed</th>\n",
       "      <th>daylightHours</th>\n",
       "      <th>rain_dummy</th>\n",
       "      <th>snow_dummy</th>\n",
       "    </tr>\n",
       "  </thead>\n",
       "  <tbody>\n",
       "    <tr>\n",
       "      <th>0</th>\n",
       "      <td>2010-01-01</td>\n",
       "      <td>37.98</td>\n",
       "      <td>2010-01-01 18:00:00</td>\n",
       "      <td>14.02</td>\n",
       "      <td>2010-01-02 12:00:00</td>\n",
       "      <td>0.76</td>\n",
       "      <td>28.29</td>\n",
       "      <td>0.76</td>\n",
       "      <td>0.53</td>\n",
       "      <td>NaN</td>\n",
       "      <td>...</td>\n",
       "      <td>2010-01-01 18:00:00</td>\n",
       "      <td>26.91</td>\n",
       "      <td>2010-01-02 13:00:00</td>\n",
       "      <td>1262322000</td>\n",
       "      <td>7.02</td>\n",
       "      <td>313</td>\n",
       "      <td>7.34</td>\n",
       "      <td>9.497222</td>\n",
       "      <td>1</td>\n",
       "      <td>0</td>\n",
       "    </tr>\n",
       "    <tr>\n",
       "      <th>1</th>\n",
       "      <td>2010-01-02</td>\n",
       "      <td>14.32</td>\n",
       "      <td>2010-01-02 13:00:00</td>\n",
       "      <td>0.17</td>\n",
       "      <td>2010-01-03 12:00:00</td>\n",
       "      <td>0.44</td>\n",
       "      <td>8.43</td>\n",
       "      <td>0.46</td>\n",
       "      <td>0.57</td>\n",
       "      <td>0.309</td>\n",
       "      <td>...</td>\n",
       "      <td>2010-01-02 18:00:00</td>\n",
       "      <td>16.74</td>\n",
       "      <td>2010-01-03 13:00:00</td>\n",
       "      <td>1262408400</td>\n",
       "      <td>9.98</td>\n",
       "      <td>308</td>\n",
       "      <td>19.70</td>\n",
       "      <td>9.509167</td>\n",
       "      <td>0</td>\n",
       "      <td>1</td>\n",
       "    </tr>\n",
       "    <tr>\n",
       "      <th>2</th>\n",
       "      <td>2010-01-03</td>\n",
       "      <td>16.06</td>\n",
       "      <td>2010-01-04 00:00:00</td>\n",
       "      <td>10.07</td>\n",
       "      <td>2010-01-04 04:00:00</td>\n",
       "      <td>0.22</td>\n",
       "      <td>3.76</td>\n",
       "      <td>0.45</td>\n",
       "      <td>0.61</td>\n",
       "      <td>0.675</td>\n",
       "      <td>...</td>\n",
       "      <td>2010-01-04 00:00:00</td>\n",
       "      <td>23.42</td>\n",
       "      <td>2010-01-04 06:00:00</td>\n",
       "      <td>1262494800</td>\n",
       "      <td>10.00</td>\n",
       "      <td>300</td>\n",
       "      <td>19.90</td>\n",
       "      <td>9.521944</td>\n",
       "      <td>0</td>\n",
       "      <td>1</td>\n",
       "    </tr>\n",
       "    <tr>\n",
       "      <th>3</th>\n",
       "      <td>2010-01-04</td>\n",
       "      <td>22.15</td>\n",
       "      <td>2010-01-04 21:00:00</td>\n",
       "      <td>17.40</td>\n",
       "      <td>2010-01-05 10:00:00</td>\n",
       "      <td>0.60</td>\n",
       "      <td>10.91</td>\n",
       "      <td>0.49</td>\n",
       "      <td>0.65</td>\n",
       "      <td>NaN</td>\n",
       "      <td>...</td>\n",
       "      <td>2010-01-04 20:00:00</td>\n",
       "      <td>27.26</td>\n",
       "      <td>2010-01-05 12:00:00</td>\n",
       "      <td>1262581200</td>\n",
       "      <td>10.00</td>\n",
       "      <td>302</td>\n",
       "      <td>13.09</td>\n",
       "      <td>9.535556</td>\n",
       "      <td>0</td>\n",
       "      <td>0</td>\n",
       "    </tr>\n",
       "    <tr>\n",
       "      <th>4</th>\n",
       "      <td>2010-01-05</td>\n",
       "      <td>24.72</td>\n",
       "      <td>2010-01-05 19:00:00</td>\n",
       "      <td>18.87</td>\n",
       "      <td>2010-01-06 09:00:00</td>\n",
       "      <td>0.84</td>\n",
       "      <td>13.59</td>\n",
       "      <td>0.50</td>\n",
       "      <td>0.68</td>\n",
       "      <td>NaN</td>\n",
       "      <td>...</td>\n",
       "      <td>2010-01-05 19:00:00</td>\n",
       "      <td>29.16</td>\n",
       "      <td>2010-01-06 10:00:00</td>\n",
       "      <td>1262667600</td>\n",
       "      <td>9.99</td>\n",
       "      <td>304</td>\n",
       "      <td>11.99</td>\n",
       "      <td>9.550278</td>\n",
       "      <td>0</td>\n",
       "      <td>0</td>\n",
       "    </tr>\n",
       "  </tbody>\n",
       "</table>\n",
       "<p>5 rows × 29 columns</p>\n",
       "</div>"
      ],
      "text/plain": [
       "        date  apparentTemperatureHigh apparentTemperatureHighTime  \\\n",
       "0 2010-01-01                    37.98         2010-01-01 18:00:00   \n",
       "1 2010-01-02                    14.32         2010-01-02 13:00:00   \n",
       "2 2010-01-03                    16.06         2010-01-04 00:00:00   \n",
       "3 2010-01-04                    22.15         2010-01-04 21:00:00   \n",
       "4 2010-01-05                    24.72         2010-01-05 19:00:00   \n",
       "\n",
       "   apparentTemperatureLow apparentTemperatureLowTime  cloudCover  dewPoint  \\\n",
       "0                   14.02        2010-01-02 12:00:00        0.76     28.29   \n",
       "1                    0.17        2010-01-03 12:00:00        0.44      8.43   \n",
       "2                   10.07        2010-01-04 04:00:00        0.22      3.76   \n",
       "3                   17.40        2010-01-05 10:00:00        0.60     10.91   \n",
       "4                   18.87        2010-01-06 09:00:00        0.84     13.59   \n",
       "\n",
       "   humidity  moonPhase  precipAccumulation    ...      temperatureHighTime  \\\n",
       "0      0.76       0.53                 NaN    ...      2010-01-01 18:00:00   \n",
       "1      0.46       0.57               0.309    ...      2010-01-02 18:00:00   \n",
       "2      0.45       0.61               0.675    ...      2010-01-04 00:00:00   \n",
       "3      0.49       0.65                 NaN    ...      2010-01-04 20:00:00   \n",
       "4      0.50       0.68                 NaN    ...      2010-01-05 19:00:00   \n",
       "\n",
       "   temperatureLow  temperatureLowTime        time visibility  windBearing  \\\n",
       "0           26.91 2010-01-02 13:00:00  1262322000       7.02          313   \n",
       "1           16.74 2010-01-03 13:00:00  1262408400       9.98          308   \n",
       "2           23.42 2010-01-04 06:00:00  1262494800      10.00          300   \n",
       "3           27.26 2010-01-05 12:00:00  1262581200      10.00          302   \n",
       "4           29.16 2010-01-06 10:00:00  1262667600       9.99          304   \n",
       "\n",
       "  windSpeed daylightHours  rain_dummy snow_dummy  \n",
       "0      7.34      9.497222           1          0  \n",
       "1     19.70      9.509167           0          1  \n",
       "2     19.90      9.521944           0          1  \n",
       "3     13.09      9.535556           0          0  \n",
       "4     11.99      9.550278           0          0  \n",
       "\n",
       "[5 rows x 29 columns]"
      ]
     },
     "execution_count": 3,
     "metadata": {},
     "output_type": "execute_result"
    }
   ],
   "source": [
    "# converting Unix time to human-readable time\n",
    "# can probably do this cleaner using regex\n",
    "timevars = ['apparentTemperatureHighTime','apparentTemperatureLowTime','precipIntensityMaxTime',\n",
    "           'sunriseTime','sunsetTime','temperatureHighTime','temperatureLowTime']\n",
    "for var in timevars:\n",
    "    df[var] = pd.to_datetime(df[var],unit='s')\n",
    "\n",
    "df.head()"
   ]
  },
  {
   "cell_type": "code",
   "execution_count": 4,
   "metadata": {},
   "outputs": [
    {
     "name": "stdout",
     "output_type": "stream",
     "text": [
      "       apparentTemperatureHigh  apparentTemperatureLow   cloudCover  \\\n",
      "count              2922.000000             2922.000000  2916.000000   \n",
      "mean                 65.450681               49.659582     0.353282   \n",
      "std                  20.745388               19.736641     0.249634   \n",
      "min                   2.240000              -10.840000     0.000000   \n",
      "25%                  51.045000               33.285000     0.160000   \n",
      "50%                  67.595000               52.240000     0.280000   \n",
      "75%                  82.245000               67.270000     0.480000   \n",
      "max                 113.670000               90.060000     1.000000   \n",
      "\n",
      "          dewPoint     humidity    moonPhase  precipAccumulation  \\\n",
      "count  2922.000000  2922.000000  2922.000000          124.000000   \n",
      "mean     46.026218     0.667645     0.500065            1.182863   \n",
      "std      18.536844     0.135031     0.288220            2.406253   \n",
      "min      -9.730000     0.210000     0.000000            0.000000   \n",
      "25%      31.220000     0.570000     0.250000            0.116000   \n",
      "50%      48.070000     0.670000     0.490000            0.316500   \n",
      "75%      62.650000     0.760000     0.750000            1.411750   \n",
      "max      75.840000     0.970000     0.990000           21.427000   \n",
      "\n",
      "       precipIntensity  precipIntensityMax  precipProbability     pressure  \\\n",
      "count      2922.000000         2922.000000        2922.000000  2922.000000   \n",
      "mean          0.003873            0.029613           0.286116  1017.175352   \n",
      "std           0.012069            0.073046           0.375338     6.886943   \n",
      "min           0.000000            0.000000           0.000000   987.630000   \n",
      "25%           0.000000            0.000000           0.000000  1012.790000   \n",
      "50%           0.000000            0.000900           0.000000  1016.895000   \n",
      "75%           0.002600            0.025600           0.660000  1021.490000   \n",
      "max           0.422000            1.184700           1.000000  1042.490000   \n",
      "\n",
      "       temperatureHigh  temperatureLow          time   visibility  \\\n",
      "count      2922.000000     2922.000000  2.922000e+03  2922.000000   \n",
      "mean         65.626119       51.641342  1.388507e+09     9.307149   \n",
      "std          18.057275       16.638131  7.289161e+07     1.119278   \n",
      "min          17.130000        4.270000  1.262322e+09     1.130000   \n",
      "25%          51.045000       37.525000  1.325416e+09     9.142500   \n",
      "50%          67.550000       52.240000  1.388509e+09     9.780000   \n",
      "75%          81.347500       66.727500  1.451603e+09     9.980000   \n",
      "max         101.460000       83.260000  1.514696e+09    10.000000   \n",
      "\n",
      "       windBearing    windSpeed  daylightHours   rain_dummy   snow_dummy  \n",
      "count  2922.000000  2922.000000    2922.000000  2922.000000  2922.000000  \n",
      "mean    209.615332     5.352420      12.197063     0.454825     0.042437  \n",
      "std      99.007546     3.143633       1.878743     0.498040     0.201618  \n",
      "min       0.000000     0.030000       9.434722     0.000000     0.000000  \n",
      "25%     153.000000     3.070000      10.374792     0.000000     0.000000  \n",
      "50%     205.000000     4.810000      12.224167     0.000000     0.000000  \n",
      "75%     302.000000     6.957500      14.024167     1.000000     0.000000  \n",
      "max     359.000000    20.660000      14.897500     1.000000     1.000000  \n"
     ]
    }
   ],
   "source": [
    "# summary statistics\n",
    "print(df.describe())"
   ]
  },
  {
   "cell_type": "code",
   "execution_count": 5,
   "metadata": {
    "collapsed": true
   },
   "outputs": [],
   "source": [
    "# KDE with Scikit-Learn\n",
    "\n",
    "def kde_sklearn(x, x_grid, bandwidth=0.2, **kwargs):\n",
    "    kde_skl = KernelDensity(bandwidth=bandwidth, **kwargs)\n",
    "    kde_skl.fit(x[:, np.newaxis])\n",
    "    # score_samples returns log-likelihood of samples\n",
    "    log_pdf = kde_skl.score_samples(x_grid[:, np.newaxis])\n",
    "    return np.exp(log_pdf)\n",
    "\n",
    "def density(column, bandwidth=0.2, **kwargs):   \n",
    "    x_grid = np.linspace(df.loc[:, column].min(), df.loc[:, column].max())\n",
    "    x = df.loc[:, column]\n",
    "    pdf = kde_sklearn(x, x_grid, bandwidth=bandwidth)\n",
    "    ax.plot(x_grid, pdf, color='blue', alpha=0.5, lw=1)\n",
    "    ax.set_title('KDE for %s' %(column))\n",
    "    plt.show()"
   ]
  },
  {
   "cell_type": "code",
   "execution_count": 6,
   "metadata": {},
   "outputs": [
    {
     "data": {
      "image/png": "[encoded data removed]",
      "text/plain": [
       "<matplotlib.figure.Figure at 0x25bfe3109e8>"
      ]
     },
     "metadata": {},
     "output_type": "display_data"
    }
   ],
   "source": [
    "%matplotlib inline\n",
    "# can use the density function to produce KDEs for any single variable\n",
    "# couldn't figure out how to do all numeric variables in 5x4 subplots\n",
    "# doesn't work with NaN\n",
    "\n",
    "fig, ax = plt.subplots()\n",
    "density('daylightHours', bandwidth=1)"
   ]
  },
  {
   "cell_type": "code",
   "execution_count": 7,
   "metadata": {},
   "outputs": [
    {
     "data": {
      "image/png": "[encoded data removed]",
      "text/plain": [
       "<matplotlib.figure.Figure at 0x25bfe21f550>"
      ]
     },
     "metadata": {},
     "output_type": "display_data"
    }
   ],
   "source": [
    "%matplotlib inline\n",
    "fig, ax = plt.subplots()\n",
    "density('temperatureHigh', bandwidth=2)"
   ]
  },
  {
   "cell_type": "code",
   "execution_count": 8,
   "metadata": {},
   "outputs": [
    {
     "data": {
      "image/png": "[encoded data removed]",
      "text/plain": [
       "<matplotlib.figure.Figure at 0x25bfbba56d8>"
      ]
     },
     "metadata": {},
     "output_type": "display_data"
    }
   ],
   "source": [
    "%matplotlib inline\n",
    "fig, ax = plt.subplots()\n",
    "density('temperatureLow', bandwidth=2)"
   ]
  }
 ],
 "metadata": {
  "kernelspec": {
   "display_name": "Python 3",
   "language": "python",
   "name": "python3"
  },
  "language_info": {
   "codemirror_mode": {
    "name": "ipython",
    "version": 3
   },
   "file_extension": ".py",
   "mimetype": "text/x-python",
   "name": "python",
   "nbconvert_exporter": "python",
   "pygments_lexer": "ipython3",
   "version": "3.6.3"
  }
 },
 "nbformat": 4,
 "nbformat_minor": 2
}
