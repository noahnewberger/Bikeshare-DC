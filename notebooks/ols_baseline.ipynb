{
 "cells": [
  {
   "cell_type": "markdown",
   "metadata": {},
   "source": [
    "# OLS regressions - baseline for Capstone analysis\n",
    "In this notebook, I perform OLS regressions using systemwide CaBi trips as the dependent variable."
   ]
  },
  {
   "cell_type": "code",
   "execution_count": 1,
   "metadata": {
    "scrolled": false
   },
   "outputs": [
    {
     "data": {
      "text/plain": [
       "(2750, 829)"
      ]
     },
     "execution_count": 1,
     "metadata": {},
     "output_type": "execute_result"
    }
   ],
   "source": [
    "from util_functions import *\n",
    "import numpy as np\n",
    "import pandas as pd\n",
    "import statsmodels.formula.api as smf\n",
    "import matplotlib.pyplot as plt\n",
    "import seaborn as sns; sns.set_style('darkgrid')\n",
    "import statsmodels.graphics.gofplots as gofplots\n",
    "%matplotlib inline\n",
    "\n",
    "set_env_path()\n",
    "conn, cur = aws_connect()\n",
    "query = \"\"\"\n",
    "SELECT *,\n",
    "CASE day_of_week WHEN 5 THEN 1 WHEN 6 THEN 1 ELSE 0 END AS weekend_dummy,\n",
    "from final_db\"\"\"\n",
    "df = pd.read_sql(query, con=conn)\n",
    "df.shape"
   ]
  },
  {
   "cell_type": "markdown",
   "metadata": {},
   "source": [
    "### First specification attempt - theory based\n",
    "A lot of the variation in daily CaBi rides can be explained by weather.\n",
    "I decided on the following specification based on trial and error and intuition. \n",
    "For our ML analysis, we will want to look into ways to perform feature selection algorithmically (I'm looking into this right now).\n",
    "\n",
    "That said, the variables I've chosen are fairly arbitrary and could probably be improved, but we shouldn't spend a huge amount of time on baseline stuff. I made sure to try to avoid multicollinearity, for example high and low temperature, population and date, and all of the CaBi data are all highly correlated."
   ]
  },
  {
   "cell_type": "code",
   "execution_count": 3,
   "metadata": {
    "collapsed": true
   },
   "outputs": [],
   "source": [
    "def fitOLS(equation, cov='nonrobust'):\n",
    "    '''\n",
    "    This function uses statsmodels.ols to estimate OLS regressions using R/patsy-style syntax.\n",
    "    \n",
    "    Args:\n",
    "        equation (str): A patsy-style regression equation.\n",
    "                       e.g. 'cabi_trips ~ apparenttemperaturehigh + daylight_hours + rain'\n",
    "        cov      (str): A specific covariance matrix type. Default is 'nonrobust'. \n",
    "                       HC0-HC3 available for heteroskedasticity-robust standard errors.\n",
    "    Returns:\n",
    "        results: A RegressionResults object which summarizes the fit of a linear regression model.\n",
    "    '''\n",
    "    model = smf.ols('{}'.format(equation), df)\n",
    "    results = model.fit(cov_type='{}'.format(cov), use_t=True)\n",
    "    return results"
   ]
  },
  {
   "cell_type": "code",
   "execution_count": 6,
   "metadata": {},
   "outputs": [
    {
     "data": {
      "text/html": [
       "<table class=\"simpletable\">\n",
       "<caption>OLS Regression Results</caption>\n",
       "<tr>\n",
       "  <th>Dep. Variable:</th>       <td>cabi_trips</td>    <th>  R-squared:         </th> <td>   0.739</td> \n",
       "</tr>\n",
       "<tr>\n",
       "  <th>Model:</th>                   <td>OLS</td>       <th>  Adj. R-squared:    </th> <td>   0.739</td> \n",
       "</tr>\n",
       "<tr>\n",
       "  <th>Method:</th>             <td>Least Squares</td>  <th>  F-statistic:       </th> <td>   1526.</td> \n",
       "</tr>\n",
       "<tr>\n",
       "  <th>Date:</th>             <td>Fri, 04 May 2018</td> <th>  Prob (F-statistic):</th>  <td>  0.00</td>  \n",
       "</tr>\n",
       "<tr>\n",
       "  <th>Time:</th>                 <td>08:50:36</td>     <th>  Log-Likelihood:    </th> <td> -24679.</td> \n",
       "</tr>\n",
       "<tr>\n",
       "  <th>No. Observations:</th>      <td>  2750</td>      <th>  AIC:               </th> <td>4.937e+04</td>\n",
       "</tr>\n",
       "<tr>\n",
       "  <th>Df Residuals:</th>          <td>  2742</td>      <th>  BIC:               </th> <td>4.942e+04</td>\n",
       "</tr>\n",
       "<tr>\n",
       "  <th>Df Model:</th>              <td>     7</td>      <th>                     </th>     <td> </td>    \n",
       "</tr>\n",
       "<tr>\n",
       "  <th>Covariance Type:</th>         <td>HC0</td>       <th>                     </th>     <td> </td>    \n",
       "</tr>\n",
       "</table>\n",
       "<table class=\"simpletable\">\n",
       "<tr>\n",
       "             <td></td>                <th>coef</th>     <th>std err</th>      <th>t</th>      <th>P>|t|</th>  <th>[0.025</th>    <th>0.975]</th>  \n",
       "</tr>\n",
       "<tr>\n",
       "  <th>Intercept</th>               <td>-2.017e+06</td> <td> 3.65e+04</td> <td>  -55.289</td> <td> 0.000</td> <td>-2.09e+06</td> <td>-1.95e+06</td>\n",
       "</tr>\n",
       "<tr>\n",
       "  <th>year</th>                    <td> 1001.3313</td> <td>   18.141</td> <td>   55.197</td> <td> 0.000</td> <td>  965.760</td> <td> 1036.903</td>\n",
       "</tr>\n",
       "<tr>\n",
       "  <th>daylight_hours</th>          <td>  191.8238</td> <td>   28.626</td> <td>    6.701</td> <td> 0.000</td> <td>  135.693</td> <td>  247.955</td>\n",
       "</tr>\n",
       "<tr>\n",
       "  <th>apparenttemperaturehigh</th> <td>   93.6577</td> <td>    2.977</td> <td>   31.456</td> <td> 0.000</td> <td>   87.819</td> <td>   99.496</td>\n",
       "</tr>\n",
       "<tr>\n",
       "  <th>rain</th>                    <td>-1323.0523</td> <td>   77.535</td> <td>  -17.064</td> <td> 0.000</td> <td>-1475.086</td> <td>-1171.019</td>\n",
       "</tr>\n",
       "<tr>\n",
       "  <th>snow</th>                    <td>-1455.3802</td> <td>  218.798</td> <td>   -6.652</td> <td> 0.000</td> <td>-1884.405</td> <td>-1026.355</td>\n",
       "</tr>\n",
       "<tr>\n",
       "  <th>nats_games</th>              <td>  382.2401</td> <td>   96.646</td> <td>    3.955</td> <td> 0.000</td> <td>  192.734</td> <td>  571.746</td>\n",
       "</tr>\n",
       "<tr>\n",
       "  <th>weekend_dummy</th>           <td>  140.2434</td> <td>   86.740</td> <td>    1.617</td> <td> 0.106</td> <td>  -29.840</td> <td>  310.326</td>\n",
       "</tr>\n",
       "</table>\n",
       "<table class=\"simpletable\">\n",
       "<tr>\n",
       "  <th>Omnibus:</th>       <td>103.214</td> <th>  Durbin-Watson:     </th> <td>   0.774</td>\n",
       "</tr>\n",
       "<tr>\n",
       "  <th>Prob(Omnibus):</th> <td> 0.000</td>  <th>  Jarque-Bera (JB):  </th> <td> 121.926</td>\n",
       "</tr>\n",
       "<tr>\n",
       "  <th>Skew:</th>          <td>-0.437</td>  <th>  Prob(JB):          </th> <td>3.34e-27</td>\n",
       "</tr>\n",
       "<tr>\n",
       "  <th>Kurtosis:</th>      <td> 3.547</td>  <th>  Cond. No.          </th> <td>1.85e+06</td>\n",
       "</tr>\n",
       "</table>"
      ],
      "text/plain": [
       "<class 'statsmodels.iolib.summary.Summary'>\n",
       "\"\"\"\n",
       "                            OLS Regression Results                            \n",
       "==============================================================================\n",
       "Dep. Variable:             cabi_trips   R-squared:                       0.739\n",
       "Model:                            OLS   Adj. R-squared:                  0.739\n",
       "Method:                 Least Squares   F-statistic:                     1526.\n",
       "Date:                Fri, 04 May 2018   Prob (F-statistic):               0.00\n",
       "Time:                        08:50:36   Log-Likelihood:                -24679.\n",
       "No. Observations:                2750   AIC:                         4.937e+04\n",
       "Df Residuals:                    2742   BIC:                         4.942e+04\n",
       "Df Model:                           7                                         \n",
       "Covariance Type:                  HC0                                         \n",
       "===========================================================================================\n",
       "                              coef    std err          t      P>|t|      [0.025      0.975]\n",
       "-------------------------------------------------------------------------------------------\n",
       "Intercept               -2.017e+06   3.65e+04    -55.289      0.000   -2.09e+06   -1.95e+06\n",
       "year                     1001.3313     18.141     55.197      0.000     965.760    1036.903\n",
       "daylight_hours            191.8238     28.626      6.701      0.000     135.693     247.955\n",
       "apparenttemperaturehigh    93.6577      2.977     31.456      0.000      87.819      99.496\n",
       "rain                    -1323.0523     77.535    -17.064      0.000   -1475.086   -1171.019\n",
       "snow                    -1455.3802    218.798     -6.652      0.000   -1884.405   -1026.355\n",
       "nats_games                382.2401     96.646      3.955      0.000     192.734     571.746\n",
       "weekend_dummy             140.2434     86.740      1.617      0.106     -29.840     310.326\n",
       "==============================================================================\n",
       "Omnibus:                      103.214   Durbin-Watson:                   0.774\n",
       "Prob(Omnibus):                  0.000   Jarque-Bera (JB):              121.926\n",
       "Skew:                          -0.437   Prob(JB):                     3.34e-27\n",
       "Kurtosis:                       3.547   Cond. No.                     1.85e+06\n",
       "==============================================================================\n",
       "\n",
       "Warnings:\n",
       "[1] Standard Errors are heteroscedasticity robust (HC0)\n",
       "[2] The condition number is large, 1.85e+06. This might indicate that there are\n",
       "strong multicollinearity or other numerical problems.\n",
       "\"\"\""
      ]
     },
     "execution_count": 6,
     "metadata": {},
     "output_type": "execute_result"
    }
   ],
   "source": [
    "# Using the new weekend_dummy for demonstrative purposes\n",
    "\n",
    "results = fitOLS('cabi_trips ~ year + daylight_hours + '\n",
    "                 'apparenttemperaturehigh + rain + snow + '\n",
    "                 'nats_games + weekend_dummy', cov='HC0')\n",
    "results.summary()"
   ]
  },
  {
   "cell_type": "code",
   "execution_count": 5,
   "metadata": {
    "scrolled": false
   },
   "outputs": [
    {
     "data": {
      "text/html": [
       "<table class=\"simpletable\">\n",
       "<caption>OLS Regression Results</caption>\n",
       "<tr>\n",
       "  <th>Dep. Variable:</th>       <td>cabi_trips</td>    <th>  R-squared:         </th> <td>   0.744</td> \n",
       "</tr>\n",
       "<tr>\n",
       "  <th>Model:</th>                   <td>OLS</td>       <th>  Adj. R-squared:    </th> <td>   0.743</td> \n",
       "</tr>\n",
       "<tr>\n",
       "  <th>Method:</th>             <td>Least Squares</td>  <th>  F-statistic:       </th> <td>   939.9</td> \n",
       "</tr>\n",
       "<tr>\n",
       "  <th>Date:</th>             <td>Fri, 04 May 2018</td> <th>  Prob (F-statistic):</th>  <td>  0.00</td>  \n",
       "</tr>\n",
       "<tr>\n",
       "  <th>Time:</th>                 <td>08:41:27</td>     <th>  Log-Likelihood:    </th> <td> -24652.</td> \n",
       "</tr>\n",
       "<tr>\n",
       "  <th>No. Observations:</th>      <td>  2750</td>      <th>  AIC:               </th> <td>4.933e+04</td>\n",
       "</tr>\n",
       "<tr>\n",
       "  <th>Df Residuals:</th>          <td>  2737</td>      <th>  BIC:               </th> <td>4.941e+04</td>\n",
       "</tr>\n",
       "<tr>\n",
       "  <th>Df Model:</th>              <td>    12</td>      <th>                     </th>     <td> </td>    \n",
       "</tr>\n",
       "<tr>\n",
       "  <th>Covariance Type:</th>         <td>HC0</td>       <th>                     </th>     <td> </td>    \n",
       "</tr>\n",
       "</table>\n",
       "<table class=\"simpletable\">\n",
       "<tr>\n",
       "             <td></td>                <th>coef</th>     <th>std err</th>      <th>t</th>      <th>P>|t|</th>  <th>[0.025</th>    <th>0.975]</th>  \n",
       "</tr>\n",
       "<tr>\n",
       "  <th>Intercept</th>               <td>-2.017e+06</td> <td> 3.62e+04</td> <td>  -55.792</td> <td> 0.000</td> <td>-2.09e+06</td> <td>-1.95e+06</td>\n",
       "</tr>\n",
       "<tr>\n",
       "  <th>C(day_of_week)[T.1.0]</th>   <td>  416.1969</td> <td>  131.549</td> <td>    3.164</td> <td> 0.002</td> <td>  158.251</td> <td>  674.143</td>\n",
       "</tr>\n",
       "<tr>\n",
       "  <th>C(day_of_week)[T.2.0]</th>   <td>  638.8117</td> <td>  133.676</td> <td>    4.779</td> <td> 0.000</td> <td>  376.695</td> <td>  900.929</td>\n",
       "</tr>\n",
       "<tr>\n",
       "  <th>C(day_of_week)[T.3.0]</th>   <td>  829.2576</td> <td>  134.505</td> <td>    6.165</td> <td> 0.000</td> <td>  565.516</td> <td> 1092.999</td>\n",
       "</tr>\n",
       "<tr>\n",
       "  <th>C(day_of_week)[T.4.0]</th>   <td>  745.7790</td> <td>  136.101</td> <td>    5.480</td> <td> 0.000</td> <td>  478.907</td> <td> 1012.650</td>\n",
       "</tr>\n",
       "<tr>\n",
       "  <th>C(day_of_week)[T.5.0]</th>   <td>  834.1410</td> <td>  140.857</td> <td>    5.922</td> <td> 0.000</td> <td>  557.944</td> <td> 1110.338</td>\n",
       "</tr>\n",
       "<tr>\n",
       "  <th>C(day_of_week)[T.6.0]</th>   <td>  492.8127</td> <td>  150.462</td> <td>    3.275</td> <td> 0.001</td> <td>  197.783</td> <td>  787.843</td>\n",
       "</tr>\n",
       "<tr>\n",
       "  <th>year</th>                    <td> 1000.9669</td> <td>   17.980</td> <td>   55.672</td> <td> 0.000</td> <td>  965.711</td> <td> 1036.222</td>\n",
       "</tr>\n",
       "<tr>\n",
       "  <th>daylight_hours</th>          <td>  194.1560</td> <td>   28.250</td> <td>    6.873</td> <td> 0.000</td> <td>  138.762</td> <td>  249.550</td>\n",
       "</tr>\n",
       "<tr>\n",
       "  <th>apparenttemperaturehigh</th> <td>   93.0413</td> <td>    2.933</td> <td>   31.727</td> <td> 0.000</td> <td>   87.291</td> <td>   98.792</td>\n",
       "</tr>\n",
       "<tr>\n",
       "  <th>rain</th>                    <td>-1353.3990</td> <td>   76.976</td> <td>  -17.582</td> <td> 0.000</td> <td>-1504.336</td> <td>-1202.462</td>\n",
       "</tr>\n",
       "<tr>\n",
       "  <th>snow</th>                    <td>-1550.0663</td> <td>  214.153</td> <td>   -7.238</td> <td> 0.000</td> <td>-1969.985</td> <td>-1130.148</td>\n",
       "</tr>\n",
       "<tr>\n",
       "  <th>nats_games</th>              <td>  402.4405</td> <td>   98.207</td> <td>    4.098</td> <td> 0.000</td> <td>  209.874</td> <td>  595.007</td>\n",
       "</tr>\n",
       "</table>\n",
       "<table class=\"simpletable\">\n",
       "<tr>\n",
       "  <th>Omnibus:</th>       <td>100.724</td> <th>  Durbin-Watson:     </th> <td>   0.771</td>\n",
       "</tr>\n",
       "<tr>\n",
       "  <th>Prob(Omnibus):</th> <td> 0.000</td>  <th>  Jarque-Bera (JB):  </th> <td> 124.099</td>\n",
       "</tr>\n",
       "<tr>\n",
       "  <th>Skew:</th>          <td>-0.412</td>  <th>  Prob(JB):          </th> <td>1.13e-27</td>\n",
       "</tr>\n",
       "<tr>\n",
       "  <th>Kurtosis:</th>      <td> 3.635</td>  <th>  Cond. No.          </th> <td>1.85e+06</td>\n",
       "</tr>\n",
       "</table>"
      ],
      "text/plain": [
       "<class 'statsmodels.iolib.summary.Summary'>\n",
       "\"\"\"\n",
       "                            OLS Regression Results                            \n",
       "==============================================================================\n",
       "Dep. Variable:             cabi_trips   R-squared:                       0.744\n",
       "Model:                            OLS   Adj. R-squared:                  0.743\n",
       "Method:                 Least Squares   F-statistic:                     939.9\n",
       "Date:                Fri, 04 May 2018   Prob (F-statistic):               0.00\n",
       "Time:                        08:41:27   Log-Likelihood:                -24652.\n",
       "No. Observations:                2750   AIC:                         4.933e+04\n",
       "Df Residuals:                    2737   BIC:                         4.941e+04\n",
       "Df Model:                          12                                         \n",
       "Covariance Type:                  HC0                                         \n",
       "===========================================================================================\n",
       "                              coef    std err          t      P>|t|      [0.025      0.975]\n",
       "-------------------------------------------------------------------------------------------\n",
       "Intercept               -2.017e+06   3.62e+04    -55.792      0.000   -2.09e+06   -1.95e+06\n",
       "C(day_of_week)[T.1.0]     416.1969    131.549      3.164      0.002     158.251     674.143\n",
       "C(day_of_week)[T.2.0]     638.8117    133.676      4.779      0.000     376.695     900.929\n",
       "C(day_of_week)[T.3.0]     829.2576    134.505      6.165      0.000     565.516    1092.999\n",
       "C(day_of_week)[T.4.0]     745.7790    136.101      5.480      0.000     478.907    1012.650\n",
       "C(day_of_week)[T.5.0]     834.1410    140.857      5.922      0.000     557.944    1110.338\n",
       "C(day_of_week)[T.6.0]     492.8127    150.462      3.275      0.001     197.783     787.843\n",
       "year                     1000.9669     17.980     55.672      0.000     965.711    1036.222\n",
       "daylight_hours            194.1560     28.250      6.873      0.000     138.762     249.550\n",
       "apparenttemperaturehigh    93.0413      2.933     31.727      0.000      87.291      98.792\n",
       "rain                    -1353.3990     76.976    -17.582      0.000   -1504.336   -1202.462\n",
       "snow                    -1550.0663    214.153     -7.238      0.000   -1969.985   -1130.148\n",
       "nats_games                402.4405     98.207      4.098      0.000     209.874     595.007\n",
       "==============================================================================\n",
       "Omnibus:                      100.724   Durbin-Watson:                   0.771\n",
       "Prob(Omnibus):                  0.000   Jarque-Bera (JB):              124.099\n",
       "Skew:                          -0.412   Prob(JB):                     1.13e-27\n",
       "Kurtosis:                       3.635   Cond. No.                     1.85e+06\n",
       "==============================================================================\n",
       "\n",
       "Warnings:\n",
       "[1] Standard Errors are heteroscedasticity robust (HC0)\n",
       "[2] The condition number is large, 1.85e+06. This might indicate that there are\n",
       "strong multicollinearity or other numerical problems.\n",
       "\"\"\""
      ]
     },
     "execution_count": 5,
     "metadata": {},
     "output_type": "execute_result"
    }
   ],
   "source": [
    "# Fit the model and print results\n",
    "# I wanted to use dc_pop instead of year (they're highly correlated) \n",
    "# But there are 0s in dc_pop that throw off the analysis\n",
    "\n",
    "results = fitOLS('cabi_trips ~ year + daylight_hours + '\n",
    "                 'apparenttemperaturehigh + rain + snow + '\n",
    "                 'nats_games + C(day_of_week)', cov='HC0')\n",
    "results.summary()"
   ]
  },
  {
   "cell_type": "markdown",
   "metadata": {},
   "source": [
    "Our results look good.\n",
    "\n",
    "The R-squared tells us that about 74% of the variance in cabi_trips is explained by the variance in the explanatory variables.\n",
    "\n",
    "The low p-values indicate that the results we found are all statistically significant.\n",
    "\n",
    "Each of the coefficient estimates indicates the average change in daily CaBi trips associated with a one-unit increase in the explanatory variable, all else held equal. For dummy variables, this can be interpreted as an on-off switch, so on days when it snows, we should expect 1550 fewer rides.\n",
    "\n",
    "There are other things to worry about, though. Statistical programming packages often include diagnostic plots by default, but statsmodels doesn't. I explain three of these plots below."
   ]
  },
  {
   "cell_type": "code",
   "execution_count": 4,
   "metadata": {
    "scrolled": false
   },
   "outputs": [
    {
     "data": {
      "image/png": "[encoded data removed]",
      "text/plain": [
       "<matplotlib.figure.Figure at 0x1f9a8b09390>"
      ]
     },
     "metadata": {},
     "output_type": "display_data"
    }
   ],
   "source": [
    "'''Homoskedasticity is when the variance/scatter/spread of the residuals is \n",
    "constant for all values of the fitted values. It is an assumption under OLS.\n",
    "\n",
    "Heteroskedasticity is when the variance of the residuals changes as the fitted values change.\n",
    "If not addressed, it can lead to biased estimators.\n",
    "If our residuals were heteroskedastic, we would expect a scatter plot to form a funnel shape,\n",
    "and a regression line to have a slope.\n",
    "'''\n",
    "\n",
    "# Regplot fits a regression line to a scatterplot\n",
    "plt.title('Residuals vs Fitted Values')\n",
    "sns.regplot(results.fittedvalues, results.resid)\n",
    "plt.xlabel('Y-hat')\n",
    "plt.ylabel('Residuals')\n",
    "plt.show()"
   ]
  },
  {
   "cell_type": "markdown",
   "metadata": {},
   "source": [
    "It doesn't look like there's heteroskedasticity, and the regression line is flat. However I think given our sample size and the significance of our variables, it couldn't hurt to specify heteroskedasticity-robust standard errors (the cov=HC0 argument in fitOLS). \n",
    "\n",
    "In practice I rarely see standard errors that aren't robust to either heteroskedasticity or clustering. (If we wanted to cluster, we would have to choose variables to cluster on, and I haven't looked into that for our data)."
   ]
  },
  {
   "cell_type": "code",
   "execution_count": 5,
   "metadata": {},
   "outputs": [
    {
     "data": {
      "image/png": "[encoded data removed]",
      "text/plain": [
       "<matplotlib.figure.Figure at 0x1f9a8059f60>"
      ]
     },
     "metadata": {},
     "output_type": "display_data"
    },
    {
     "data": {
      "image/png": "[encoded data removed]",
      "text/plain": [
       "<matplotlib.figure.Figure at 0x1f9a8b1d160>"
      ]
     },
     "metadata": {},
     "output_type": "display_data"
    }
   ],
   "source": [
    "'''Normality of the residuals with mean 0 is another assumption under OLS.\n",
    "If residuals are nonnormal and not approximately centered at 0, the model is probably misspecified.\n",
    "The first chart is a kernel density estimation and the second is a Q-Q plot.\n",
    "\n",
    "Q-Q plots compare two datasets to see whether or not they come from the same distribution.\n",
    "If they do, the points should form a straight line.\n",
    "Here, we have a Normal Q-Q plot, where our residuals are being compared against a normal distribution.\n",
    "'''\n",
    "\n",
    "# How are our residuals distributed?\n",
    "plt.title('Density Plot of Residuals')\n",
    "sns.kdeplot(results.resid)\n",
    "plt.show()\n",
    "\n",
    "# How close are our residuals to normal?\n",
    "fig = gofplots.qqplot(results.resid, line='s')\n",
    "plt.title(\"Normal Q-Q plot\")\n",
    "plt.show()"
   ]
  },
  {
   "cell_type": "markdown",
   "metadata": {},
   "source": [
    "The residuals appear to be approximately centered around 0.\n",
    "\n",
    "The third chart shows that our residuals are close to normal, but at the extreme ends of our distribution we get farther from a normal distribution."
   ]
  },
  {
   "cell_type": "markdown",
   "metadata": {},
   "source": [
    "### Second specification attempt - dockless?\n",
    "Next, I add dless_trips_all to the specification to see if there's any effect."
   ]
  },
  {
   "cell_type": "code",
   "execution_count": 6,
   "metadata": {
    "scrolled": false
   },
   "outputs": [
    {
     "data": {
      "text/html": [
       "<table class=\"simpletable\">\n",
       "<caption>OLS Regression Results</caption>\n",
       "<tr>\n",
       "  <th>Dep. Variable:</th>       <td>cabi_trips</td>    <th>  R-squared:         </th> <td>   0.745</td> \n",
       "</tr>\n",
       "<tr>\n",
       "  <th>Model:</th>                   <td>OLS</td>       <th>  Adj. R-squared:    </th> <td>   0.744</td> \n",
       "</tr>\n",
       "<tr>\n",
       "  <th>Method:</th>             <td>Least Squares</td>  <th>  F-statistic:       </th> <td>   867.8</td> \n",
       "</tr>\n",
       "<tr>\n",
       "  <th>Date:</th>             <td>Mon, 30 Apr 2018</td> <th>  Prob (F-statistic):</th>  <td>  0.00</td>  \n",
       "</tr>\n",
       "<tr>\n",
       "  <th>Time:</th>                 <td>17:54:00</td>     <th>  Log-Likelihood:    </th> <td> -24649.</td> \n",
       "</tr>\n",
       "<tr>\n",
       "  <th>No. Observations:</th>      <td>  2750</td>      <th>  AIC:               </th> <td>4.933e+04</td>\n",
       "</tr>\n",
       "<tr>\n",
       "  <th>Df Residuals:</th>          <td>  2736</td>      <th>  BIC:               </th> <td>4.941e+04</td>\n",
       "</tr>\n",
       "<tr>\n",
       "  <th>Df Model:</th>              <td>    13</td>      <th>                     </th>     <td> </td>    \n",
       "</tr>\n",
       "<tr>\n",
       "  <th>Covariance Type:</th>         <td>HC0</td>       <th>                     </th>     <td> </td>    \n",
       "</tr>\n",
       "</table>\n",
       "<table class=\"simpletable\">\n",
       "<tr>\n",
       "             <td></td>                <th>coef</th>     <th>std err</th>      <th>t</th>      <th>P>|t|</th>  <th>[0.025</th>    <th>0.975]</th>  \n",
       "</tr>\n",
       "<tr>\n",
       "  <th>Intercept</th>               <td>-2.051e+06</td> <td> 3.85e+04</td> <td>  -53.224</td> <td> 0.000</td> <td>-2.13e+06</td> <td>-1.98e+06</td>\n",
       "</tr>\n",
       "<tr>\n",
       "  <th>C(day_of_week)[T.1.0]</th>   <td>  418.6946</td> <td>  131.240</td> <td>    3.190</td> <td> 0.001</td> <td>  161.355</td> <td>  676.034</td>\n",
       "</tr>\n",
       "<tr>\n",
       "  <th>C(day_of_week)[T.2.0]</th>   <td>  643.6174</td> <td>  133.326</td> <td>    4.827</td> <td> 0.000</td> <td>  382.187</td> <td>  905.048</td>\n",
       "</tr>\n",
       "<tr>\n",
       "  <th>C(day_of_week)[T.3.0]</th>   <td>  834.7996</td> <td>  134.238</td> <td>    6.219</td> <td> 0.000</td> <td>  571.582</td> <td> 1098.017</td>\n",
       "</tr>\n",
       "<tr>\n",
       "  <th>C(day_of_week)[T.4.0]</th>   <td>  750.6864</td> <td>  135.931</td> <td>    5.523</td> <td> 0.000</td> <td>  484.148</td> <td> 1017.224</td>\n",
       "</tr>\n",
       "<tr>\n",
       "  <th>C(day_of_week)[T.5.0]</th>   <td>  840.5945</td> <td>  140.605</td> <td>    5.978</td> <td> 0.000</td> <td>  564.891</td> <td> 1116.298</td>\n",
       "</tr>\n",
       "<tr>\n",
       "  <th>C(day_of_week)[T.6.0]</th>   <td>  496.2995</td> <td>  150.329</td> <td>    3.301</td> <td> 0.001</td> <td>  201.529</td> <td>  791.070</td>\n",
       "</tr>\n",
       "<tr>\n",
       "  <th>year</th>                    <td> 1017.7115</td> <td>   19.169</td> <td>   53.092</td> <td> 0.000</td> <td>  980.125</td> <td> 1055.298</td>\n",
       "</tr>\n",
       "<tr>\n",
       "  <th>daylight_hours</th>          <td>  176.7309</td> <td>   28.941</td> <td>    6.107</td> <td> 0.000</td> <td>  119.982</td> <td>  233.480</td>\n",
       "</tr>\n",
       "<tr>\n",
       "  <th>apparenttemperaturehigh</th> <td>   94.0238</td> <td>    2.945</td> <td>   31.929</td> <td> 0.000</td> <td>   88.250</td> <td>   99.798</td>\n",
       "</tr>\n",
       "<tr>\n",
       "  <th>rain</th>                    <td>-1358.4120</td> <td>   76.769</td> <td>  -17.695</td> <td> 0.000</td> <td>-1508.942</td> <td>-1207.882</td>\n",
       "</tr>\n",
       "<tr>\n",
       "  <th>snow</th>                    <td>-1559.6736</td> <td>  214.899</td> <td>   -7.258</td> <td> 0.000</td> <td>-1981.054</td> <td>-1138.293</td>\n",
       "</tr>\n",
       "<tr>\n",
       "  <th>nats_games</th>              <td>  396.6625</td> <td>   97.860</td> <td>    4.053</td> <td> 0.000</td> <td>  204.776</td> <td>  588.549</td>\n",
       "</tr>\n",
       "<tr>\n",
       "  <th>dless_trips_all</th>         <td>   -0.3148</td> <td>    0.137</td> <td>   -2.302</td> <td> 0.021</td> <td>   -0.583</td> <td>   -0.047</td>\n",
       "</tr>\n",
       "</table>\n",
       "<table class=\"simpletable\">\n",
       "<tr>\n",
       "  <th>Omnibus:</th>       <td>101.954</td> <th>  Durbin-Watson:     </th> <td>   0.779</td>\n",
       "</tr>\n",
       "<tr>\n",
       "  <th>Prob(Omnibus):</th> <td> 0.000</td>  <th>  Jarque-Bera (JB):  </th> <td> 126.457</td>\n",
       "</tr>\n",
       "<tr>\n",
       "  <th>Skew:</th>          <td>-0.413</td>  <th>  Prob(JB):          </th> <td>3.47e-28</td>\n",
       "</tr>\n",
       "<tr>\n",
       "  <th>Kurtosis:</th>      <td> 3.649</td>  <th>  Cond. No.          </th> <td>1.99e+06</td>\n",
       "</tr>\n",
       "</table>"
      ],
      "text/plain": [
       "<class 'statsmodels.iolib.summary.Summary'>\n",
       "\"\"\"\n",
       "                            OLS Regression Results                            \n",
       "==============================================================================\n",
       "Dep. Variable:             cabi_trips   R-squared:                       0.745\n",
       "Model:                            OLS   Adj. R-squared:                  0.744\n",
       "Method:                 Least Squares   F-statistic:                     867.8\n",
       "Date:                Mon, 30 Apr 2018   Prob (F-statistic):               0.00\n",
       "Time:                        17:54:00   Log-Likelihood:                -24649.\n",
       "No. Observations:                2750   AIC:                         4.933e+04\n",
       "Df Residuals:                    2736   BIC:                         4.941e+04\n",
       "Df Model:                          13                                         \n",
       "Covariance Type:                  HC0                                         \n",
       "===========================================================================================\n",
       "                              coef    std err          t      P>|t|      [0.025      0.975]\n",
       "-------------------------------------------------------------------------------------------\n",
       "Intercept               -2.051e+06   3.85e+04    -53.224      0.000   -2.13e+06   -1.98e+06\n",
       "C(day_of_week)[T.1.0]     418.6946    131.240      3.190      0.001     161.355     676.034\n",
       "C(day_of_week)[T.2.0]     643.6174    133.326      4.827      0.000     382.187     905.048\n",
       "C(day_of_week)[T.3.0]     834.7996    134.238      6.219      0.000     571.582    1098.017\n",
       "C(day_of_week)[T.4.0]     750.6864    135.931      5.523      0.000     484.148    1017.224\n",
       "C(day_of_week)[T.5.0]     840.5945    140.605      5.978      0.000     564.891    1116.298\n",
       "C(day_of_week)[T.6.0]     496.2995    150.329      3.301      0.001     201.529     791.070\n",
       "year                     1017.7115     19.169     53.092      0.000     980.125    1055.298\n",
       "daylight_hours            176.7309     28.941      6.107      0.000     119.982     233.480\n",
       "apparenttemperaturehigh    94.0238      2.945     31.929      0.000      88.250      99.798\n",
       "rain                    -1358.4120     76.769    -17.695      0.000   -1508.942   -1207.882\n",
       "snow                    -1559.6736    214.899     -7.258      0.000   -1981.054   -1138.293\n",
       "nats_games                396.6625     97.860      4.053      0.000     204.776     588.549\n",
       "dless_trips_all            -0.3148      0.137     -2.302      0.021      -0.583      -0.047\n",
       "==============================================================================\n",
       "Omnibus:                      101.954   Durbin-Watson:                   0.779\n",
       "Prob(Omnibus):                  0.000   Jarque-Bera (JB):              126.457\n",
       "Skew:                          -0.413   Prob(JB):                     3.47e-28\n",
       "Kurtosis:                       3.649   Cond. No.                     1.99e+06\n",
       "==============================================================================\n",
       "\n",
       "Warnings:\n",
       "[1] Standard Errors are heteroscedasticity robust (HC0)\n",
       "[2] The condition number is large, 1.99e+06. This might indicate that there are\n",
       "strong multicollinearity or other numerical problems.\n",
       "\"\"\""
      ]
     },
     "execution_count": 6,
     "metadata": {},
     "output_type": "execute_result"
    }
   ],
   "source": [
    "results = fitOLS('cabi_trips ~ year + daylight_hours +'\n",
    "                 'apparenttemperaturehigh + rain + snow + '\n",
    "                 'nats_games + C(day_of_week) + dless_trips_all', cov='HC0')\n",
    "results.summary()"
   ]
  },
  {
   "cell_type": "markdown",
   "metadata": {},
   "source": [
    "R squared is slightly higher.\n",
    "\n",
    "dless_trips_all is statistically significant, but its coefficient is small. An increase of 100 dockless trips is associated with 33 fewer CaBi trips. Its upper bound is also fairly close to 0. \n",
    "\n",
    "For the sake of brevity I don't include the diagnostic plots here because they don't change much after adding just one independent variable."
   ]
  },
  {
   "cell_type": "markdown",
   "metadata": {},
   "source": [
    "### Third specification attempt - transformations\n",
    "Next, I try taking the natural log of certain variables. \n",
    "When you include a logged variable, its interpretation changes to percentage change instead of unit change. I get into specifics in the cell after the regression results.\n",
    "\n",
    "Logging variables is also very good for dealing with outliers. OLS is sensitive to outliers - we saw this demonstrated in class when we removed one observation from the IQ ~ TVhours regression. Logging a variable with a long right tail will often make it approximately normal, which is better for OLS."
   ]
  },
  {
   "cell_type": "code",
   "execution_count": 7,
   "metadata": {},
   "outputs": [
    {
     "data": {
      "text/plain": [
       "(2746, 828)"
      ]
     },
     "execution_count": 7,
     "metadata": {},
     "output_type": "execute_result"
    }
   ],
   "source": [
    "# I ran into errors trying to log cabi_trips because the log of 0 is undefined.\n",
    "# Ended up having to drop the four observations where cabi_trips==0\n",
    "df = df[df.cabi_trips != 0]\n",
    "df.shape"
   ]
  },
  {
   "cell_type": "code",
   "execution_count": 8,
   "metadata": {
    "scrolled": true
   },
   "outputs": [
    {
     "data": {
      "text/html": [
       "<table class=\"simpletable\">\n",
       "<caption>OLS Regression Results</caption>\n",
       "<tr>\n",
       "  <th>Dep. Variable:</th>    <td>np.log(cabi_trips)</td> <th>  R-squared:         </th> <td>   0.661</td>\n",
       "</tr>\n",
       "<tr>\n",
       "  <th>Model:</th>                    <td>OLS</td>        <th>  Adj. R-squared:    </th> <td>   0.659</td>\n",
       "</tr>\n",
       "<tr>\n",
       "  <th>Method:</th>              <td>Least Squares</td>   <th>  F-statistic:       </th> <td>   313.7</td>\n",
       "</tr>\n",
       "<tr>\n",
       "  <th>Date:</th>              <td>Mon, 30 Apr 2018</td>  <th>  Prob (F-statistic):</th>  <td>  0.00</td> \n",
       "</tr>\n",
       "<tr>\n",
       "  <th>Time:</th>                  <td>17:54:00</td>      <th>  Log-Likelihood:    </th> <td> -1537.2</td>\n",
       "</tr>\n",
       "<tr>\n",
       "  <th>No. Observations:</th>       <td>  2746</td>       <th>  AIC:               </th> <td>   3102.</td>\n",
       "</tr>\n",
       "<tr>\n",
       "  <th>Df Residuals:</th>           <td>  2732</td>       <th>  BIC:               </th> <td>   3185.</td>\n",
       "</tr>\n",
       "<tr>\n",
       "  <th>Df Model:</th>               <td>    13</td>       <th>                     </th>     <td> </td>   \n",
       "</tr>\n",
       "<tr>\n",
       "  <th>Covariance Type:</th>          <td>HC0</td>        <th>                     </th>     <td> </td>   \n",
       "</tr>\n",
       "</table>\n",
       "<table class=\"simpletable\">\n",
       "<tr>\n",
       "                 <td></td>                    <th>coef</th>     <th>std err</th>      <th>t</th>      <th>P>|t|</th>  <th>[0.025</th>    <th>0.975]</th>  \n",
       "</tr>\n",
       "<tr>\n",
       "  <th>Intercept</th>                       <td> -379.7281</td> <td>    9.539</td> <td>  -39.806</td> <td> 0.000</td> <td> -398.433</td> <td> -361.023</td>\n",
       "</tr>\n",
       "<tr>\n",
       "  <th>C(day_of_week)[T.1.0]</th>           <td>    0.0766</td> <td>    0.032</td> <td>    2.384</td> <td> 0.017</td> <td>    0.014</td> <td>    0.140</td>\n",
       "</tr>\n",
       "<tr>\n",
       "  <th>C(day_of_week)[T.2.0]</th>           <td>    0.1301</td> <td>    0.029</td> <td>    4.547</td> <td> 0.000</td> <td>    0.074</td> <td>    0.186</td>\n",
       "</tr>\n",
       "<tr>\n",
       "  <th>C(day_of_week)[T.3.0]</th>           <td>    0.1478</td> <td>    0.030</td> <td>    4.950</td> <td> 0.000</td> <td>    0.089</td> <td>    0.206</td>\n",
       "</tr>\n",
       "<tr>\n",
       "  <th>C(day_of_week)[T.4.0]</th>           <td>    0.1340</td> <td>    0.031</td> <td>    4.257</td> <td> 0.000</td> <td>    0.072</td> <td>    0.196</td>\n",
       "</tr>\n",
       "<tr>\n",
       "  <th>C(day_of_week)[T.5.0]</th>           <td>    0.1622</td> <td>    0.029</td> <td>    5.672</td> <td> 0.000</td> <td>    0.106</td> <td>    0.218</td>\n",
       "</tr>\n",
       "<tr>\n",
       "  <th>C(day_of_week)[T.6.0]</th>           <td>    0.0700</td> <td>    0.029</td> <td>    2.383</td> <td> 0.017</td> <td>    0.012</td> <td>    0.128</td>\n",
       "</tr>\n",
       "<tr>\n",
       "  <th>year</th>                            <td>    0.1909</td> <td>    0.005</td> <td>   40.325</td> <td> 0.000</td> <td>    0.182</td> <td>    0.200</td>\n",
       "</tr>\n",
       "<tr>\n",
       "  <th>daylight_hours</th>                  <td>    0.0530</td> <td>    0.006</td> <td>    8.241</td> <td> 0.000</td> <td>    0.040</td> <td>    0.066</td>\n",
       "</tr>\n",
       "<tr>\n",
       "  <th>np.log(apparenttemperaturehigh)</th> <td>    0.8136</td> <td>    0.041</td> <td>   19.879</td> <td> 0.000</td> <td>    0.733</td> <td>    0.894</td>\n",
       "</tr>\n",
       "<tr>\n",
       "  <th>rain</th>                            <td>   -0.2168</td> <td>    0.017</td> <td>  -12.851</td> <td> 0.000</td> <td>   -0.250</td> <td>   -0.184</td>\n",
       "</tr>\n",
       "<tr>\n",
       "  <th>snow</th>                            <td>   -0.3684</td> <td>    0.076</td> <td>   -4.845</td> <td> 0.000</td> <td>   -0.517</td> <td>   -0.219</td>\n",
       "</tr>\n",
       "<tr>\n",
       "  <th>nats_games</th>                      <td>    0.0307</td> <td>    0.020</td> <td>    1.564</td> <td> 0.118</td> <td>   -0.008</td> <td>    0.069</td>\n",
       "</tr>\n",
       "<tr>\n",
       "  <th>dless_trips_all</th>                 <td> -8.09e-05</td> <td>  1.8e-05</td> <td>   -4.485</td> <td> 0.000</td> <td>   -0.000</td> <td>-4.55e-05</td>\n",
       "</tr>\n",
       "</table>\n",
       "<table class=\"simpletable\">\n",
       "<tr>\n",
       "  <th>Omnibus:</th>       <td>1606.578</td> <th>  Durbin-Watson:     </th> <td>   0.772</td> \n",
       "</tr>\n",
       "<tr>\n",
       "  <th>Prob(Omnibus):</th>  <td> 0.000</td>  <th>  Jarque-Bera (JB):  </th> <td>27995.720</td>\n",
       "</tr>\n",
       "<tr>\n",
       "  <th>Skew:</th>           <td>-2.421</td>  <th>  Prob(JB):          </th> <td>    0.00</td> \n",
       "</tr>\n",
       "<tr>\n",
       "  <th>Kurtosis:</th>       <td>17.874</td>  <th>  Cond. No.          </th> <td>2.00e+06</td> \n",
       "</tr>\n",
       "</table>"
      ],
      "text/plain": [
       "<class 'statsmodels.iolib.summary.Summary'>\n",
       "\"\"\"\n",
       "                            OLS Regression Results                            \n",
       "==============================================================================\n",
       "Dep. Variable:     np.log(cabi_trips)   R-squared:                       0.661\n",
       "Model:                            OLS   Adj. R-squared:                  0.659\n",
       "Method:                 Least Squares   F-statistic:                     313.7\n",
       "Date:                Mon, 30 Apr 2018   Prob (F-statistic):               0.00\n",
       "Time:                        17:54:00   Log-Likelihood:                -1537.2\n",
       "No. Observations:                2746   AIC:                             3102.\n",
       "Df Residuals:                    2732   BIC:                             3185.\n",
       "Df Model:                          13                                         \n",
       "Covariance Type:                  HC0                                         \n",
       "===================================================================================================\n",
       "                                      coef    std err          t      P>|t|      [0.025      0.975]\n",
       "---------------------------------------------------------------------------------------------------\n",
       "Intercept                        -379.7281      9.539    -39.806      0.000    -398.433    -361.023\n",
       "C(day_of_week)[T.1.0]               0.0766      0.032      2.384      0.017       0.014       0.140\n",
       "C(day_of_week)[T.2.0]               0.1301      0.029      4.547      0.000       0.074       0.186\n",
       "C(day_of_week)[T.3.0]               0.1478      0.030      4.950      0.000       0.089       0.206\n",
       "C(day_of_week)[T.4.0]               0.1340      0.031      4.257      0.000       0.072       0.196\n",
       "C(day_of_week)[T.5.0]               0.1622      0.029      5.672      0.000       0.106       0.218\n",
       "C(day_of_week)[T.6.0]               0.0700      0.029      2.383      0.017       0.012       0.128\n",
       "year                                0.1909      0.005     40.325      0.000       0.182       0.200\n",
       "daylight_hours                      0.0530      0.006      8.241      0.000       0.040       0.066\n",
       "np.log(apparenttemperaturehigh)     0.8136      0.041     19.879      0.000       0.733       0.894\n",
       "rain                               -0.2168      0.017    -12.851      0.000      -0.250      -0.184\n",
       "snow                               -0.3684      0.076     -4.845      0.000      -0.517      -0.219\n",
       "nats_games                          0.0307      0.020      1.564      0.118      -0.008       0.069\n",
       "dless_trips_all                  -8.09e-05    1.8e-05     -4.485      0.000      -0.000   -4.55e-05\n",
       "==============================================================================\n",
       "Omnibus:                     1606.578   Durbin-Watson:                   0.772\n",
       "Prob(Omnibus):                  0.000   Jarque-Bera (JB):            27995.720\n",
       "Skew:                          -2.421   Prob(JB):                         0.00\n",
       "Kurtosis:                      17.874   Cond. No.                     2.00e+06\n",
       "==============================================================================\n",
       "\n",
       "Warnings:\n",
       "[1] Standard Errors are heteroscedasticity robust (HC0)\n",
       "[2] The condition number is large,  2e+06. This might indicate that there are\n",
       "strong multicollinearity or other numerical problems.\n",
       "\"\"\""
      ]
     },
     "execution_count": 8,
     "metadata": {},
     "output_type": "execute_result"
    }
   ],
   "source": [
    "results = fitOLS('np.log(cabi_trips) ~ year + daylight_hours + '\n",
    "                 'np.log(apparenttemperaturehigh) + rain + snow + nats_games + C(day_of_week) + '\n",
    "                 'dless_trips_all', cov='HC0')\n",
    "results.summary()"
   ]
  },
  {
   "cell_type": "markdown",
   "metadata": {},
   "source": [
    "Since we have some logged variables, the interpretation of the coefficients changes.\n",
    "\n",
    "Before, the interpretation of apparenttemperaturehigh's effect on cabi_rides was basically \"Holding all else equal, how many more cabi rides should we see if the feels-like temperature is one degree (F) higher?\"\n",
    "\n",
    "Now that both are logged, the coefficient of 0.8136 means \"Holding all else equal, if feels-like temperature rises by 1%, we expect there to be a 0.81% increase in CaBi rides.\" \n",
    "\n",
    "I explain the interpretation of the dummy coefficients below."
   ]
  },
  {
   "cell_type": "code",
   "execution_count": 9,
   "metadata": {},
   "outputs": [
    {
     "name": "stdout",
     "output_type": "stream",
     "text": [
      "If rain switches from 0 to 1, the % impact on cabi_trips is  -19.490902860146488\n",
      "If rain switches from 1 to 0, the % impact on cabi_trips is  24.209565816256216\n",
      "If snow switches from 0 to 1, the % impact on cabi_trips is  -30.815960982195236\n",
      "If snow switches from 1 to 0, the % impact on cabi_trips is  44.542009139224504\n"
     ]
    }
   ],
   "source": [
    "# When you have a logged dependent variable, be careful with dummies\n",
    "# The effect is asymmetrical!\n",
    "# more: https://davegiles.blogspot.com/2011/03/dummies-for-dummies.html\n",
    "print('If rain switches from 0 to 1, the % impact on cabi_trips is ', 100*(np.exp(-0.2168) - 1))\n",
    "print('If rain switches from 1 to 0, the % impact on cabi_trips is ', 100*(np.exp(0.2168) - 1))\n",
    "print('If snow switches from 0 to 1, the % impact on cabi_trips is ', 100*(np.exp(-0.3684) - 1))\n",
    "print('If snow switches from 1 to 0, the % impact on cabi_trips is ', 100*(np.exp(0.3684) - 1))"
   ]
  },
  {
   "cell_type": "markdown",
   "metadata": {},
   "source": [
    "All in all, this third specification isn't that appealing. nats_games is no longer significant, the R squared is lower, and the dummy variables don't make as much intuitive sense.\n",
    "\n",
    "Looking at the charts below you can see that things look worse than before. This particular specification is no good."
   ]
  },
  {
   "cell_type": "code",
   "execution_count": 10,
   "metadata": {},
   "outputs": [
    {
     "data": {
      "image/png": "[encoded data removed]",
      "text/plain": [
       "<matplotlib.figure.Figure at 0x1f9aa0b7ef0>"
      ]
     },
     "metadata": {},
     "output_type": "display_data"
    },
    {
     "data": {
      "image/png": "[encoded data removed]",
      "text/plain": [
       "<matplotlib.figure.Figure at 0x1f9b83214a8>"
      ]
     },
     "metadata": {},
     "output_type": "display_data"
    },
    {
     "data": {
      "image/png": "[encoded data removed]",
      "text/plain": [
       "<matplotlib.figure.Figure at 0x1f9b503d2e8>"
      ]
     },
     "metadata": {},
     "output_type": "display_data"
    }
   ],
   "source": [
    "# Heteroskedasticity?\n",
    "plt.title('Residuals vs Fitted Values')\n",
    "sns.regplot(results.fittedvalues, results.resid)\n",
    "plt.xlabel('Y-hat')\n",
    "plt.ylabel('Residuals')\n",
    "plt.show()\n",
    "\n",
    "# How are our residuals distributed?\n",
    "plt.title('Density Plot of Residuals')\n",
    "sns.kdeplot(results.resid)\n",
    "plt.show()\n",
    "\n",
    "# How close are our residuals to normality?\n",
    "fig = gofplots.qqplot(results.resid, line='s')\n",
    "plt.title(\"Normal Q-Q plot\")\n",
    "plt.show()"
   ]
  }
 ],
 "metadata": {
  "kernelspec": {
   "display_name": "Python 3",
   "language": "python",
   "name": "python3"
  },
  "language_info": {
   "codemirror_mode": {
    "name": "ipython",
    "version": 3
   },
   "file_extension": ".py",
   "mimetype": "text/x-python",
   "name": "python",
   "nbconvert_exporter": "python",
   "pygments_lexer": "ipython3",
   "version": "3.6.4"
  }
 },
 "nbformat": 4,
 "nbformat_minor": 2
}
