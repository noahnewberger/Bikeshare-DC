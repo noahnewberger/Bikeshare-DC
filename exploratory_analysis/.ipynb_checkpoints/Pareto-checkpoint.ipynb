{
 "cells": [
  {
   "cell_type": "code",
   "execution_count": 9,
   "metadata": {},
   "outputs": [
    {
     "name": "stderr",
     "output_type": "stream",
     "text": [
      "IOPub data rate exceeded.\n",
      "The notebook server will temporarily stop sending output\n",
      "to the client in order to avoid crashing it.\n",
      "To change this limit, set the config variable\n",
      "`--NotebookApp.iopub_data_rate_limit`.\n"
     ]
    }
   ],
   "source": [
    "import pandas as pd\n",
    "import util_functions as uf\n",
    "from plotly.offline import download_plotlyjs, init_notebook_mode, iplot, plot\n",
    "from plotly.graph_objs import *\n",
    "from plotly import tools\n",
    "import plotly\n",
    "import sys\n",
    "sys.path.append(\"..\")\n",
    "from read_aws import *\n",
    "plotly.offline.init_notebook_mode()"
   ]
  },
  {
   "cell_type": "code",
   "execution_count": 4,
   "metadata": {},
   "outputs": [
    {
     "data": {
      "text/html": [
       "<div>\n",
       "<style>\n",
       "    .dataframe thead tr:only-child th {\n",
       "        text-align: right;\n",
       "    }\n",
       "\n",
       "    .dataframe thead th {\n",
       "        text-align: left;\n",
       "    }\n",
       "\n",
       "    .dataframe tbody tr th {\n",
       "        vertical-align: top;\n",
       "    }\n",
       "</style>\n",
       "<table border=\"1\" class=\"dataframe\">\n",
       "  <thead>\n",
       "    <tr style=\"text-align: right;\">\n",
       "      <th></th>\n",
       "      <th>operatorclean</th>\n",
       "      <th>user_trips</th>\n",
       "      <th>freq_user_trips</th>\n",
       "    </tr>\n",
       "  </thead>\n",
       "  <tbody>\n",
       "    <tr>\n",
       "      <th>0</th>\n",
       "      <td>jump</td>\n",
       "      <td>1</td>\n",
       "      <td>566</td>\n",
       "    </tr>\n",
       "    <tr>\n",
       "      <th>1</th>\n",
       "      <td>jump</td>\n",
       "      <td>2</td>\n",
       "      <td>354</td>\n",
       "    </tr>\n",
       "    <tr>\n",
       "      <th>2</th>\n",
       "      <td>jump</td>\n",
       "      <td>3</td>\n",
       "      <td>243</td>\n",
       "    </tr>\n",
       "    <tr>\n",
       "      <th>3</th>\n",
       "      <td>jump</td>\n",
       "      <td>4</td>\n",
       "      <td>185</td>\n",
       "    </tr>\n",
       "    <tr>\n",
       "      <th>4</th>\n",
       "      <td>jump</td>\n",
       "      <td>5</td>\n",
       "      <td>123</td>\n",
       "    </tr>\n",
       "  </tbody>\n",
       "</table>\n",
       "</div>"
      ],
      "text/plain": [
       "  operatorclean  user_trips  freq_user_trips\n",
       "0          jump           1              566\n",
       "1          jump           2              354\n",
       "2          jump           3              243\n",
       "3          jump           4              185\n",
       "4          jump           5              123"
      ]
     },
     "execution_count": 4,
     "metadata": {},
     "output_type": "execute_result"
    }
   ],
   "source": [
    " # Connect to AWS\n",
    "#uf.set_env_path()\n",
    "#conn, cur = uf.aws_connect()\n",
    "#Noah -Connect to AWS\n",
    "conn = read_only_connect_aws()\n",
    "\n",
    "\n",
    "# Trip Frequency Count for entire pilot by Operator\n",
    "full_df = pd.read_sql(\"\"\"select distinct\n",
    "                    user_freqs.operatorclean,\n",
    "                    user_freqs.user_trips,\n",
    "                    count(*) as freq_user_trips\n",
    "                    from\n",
    "                    ((select distinct\n",
    "                    operatorclean,\n",
    "                    userid,\n",
    "                    count(*) as user_trips\n",
    "                    from dockless_trips\n",
    "                    where operatorclean in ('lime', 'spin')\n",
    "                    group by 1, 2\n",
    "                    order by operatorclean, count(*))\n",
    "                    union\n",
    "                    /*ofo users*/\n",
    "                    (select distinct\n",
    "                    'ofo' as operatorclean,\n",
    "                    userid,\n",
    "                    sum(trips) as user_trips\n",
    "                    from ofo_users\n",
    "                    group by 1, 2\n",
    "                    order by operatorclean, sum(trips))\n",
    "                    union\n",
    "                    /*jump users*/\n",
    "                    (select distinct\n",
    "                    'jump' as operatorclean,\n",
    "                    userid,\n",
    "                    sum(trips) as user_trips\n",
    "                    from jump_users\n",
    "                    group by 1, 2\n",
    "                    order by operatorclean, sum(trips))) as user_freqs\n",
    "                    group by 1, 2\n",
    "                    order by 1, 2;\n",
    "                 \"\"\", con=conn)\n",
    "full_df.head()"
   ]
  },
  {
   "cell_type": "code",
   "execution_count": 11,
   "metadata": {},
   "outputs": [
    {
     "data": {
      "text/plain": [
       "array(['jump', 'lime', 'ofo', 'spin'], dtype=object)"
      ]
     },
     "execution_count": 11,
     "metadata": {},
     "output_type": "execute_result"
    }
   ],
   "source": [
    "full_df.operatorclean.unique()"
   ]
  },
  {
   "cell_type": "code",
   "execution_count": 20,
   "metadata": {},
   "outputs": [],
   "source": [
    "# Use jump Data as a test case\n",
    "def get_data(operator, full_df):\n",
    "    df = full_df[full_df['operatorclean'] == operator].copy()\n",
    "\n",
    "    # Calculate Cumulative Sum and Perc\n",
    "    df['cumulative_sum'] = df['freq_user_trips'].cumsum()\n",
    "    df['cumulative_perc'] = (df['cumulative_sum'] / df['freq_user_trips'].sum()) * 100\n",
    "    df['demarcation'] = 80\n",
    "    print(df.head())\n",
    "    return df\n"
   ]
  },
  {
   "cell_type": "code",
   "execution_count": 21,
   "metadata": {
    "collapsed": true
   },
   "outputs": [],
   "source": [
    "def traces(df): \n",
    "    trace1 = Bar(\n",
    "        x=df.user_trips,\n",
    "        y=df.freq_user_trips,\n",
    "        name='Users by Frequency of Trips',\n",
    "        marker=dict(\n",
    "            color='rgb(34,163,192)'\n",
    "                   )\n",
    "    )\n",
    "    trace2 = Scatter(\n",
    "        x=df.user_trips,\n",
    "        y=df.cumulative_perc,\n",
    "        name='Cumulative Percentage',\n",
    "        yaxis='y2',\n",
    "        line=dict(\n",
    "            color='rgb(243,158,115)',\n",
    "            width=2.4\n",
    "           )\n",
    "    )\n",
    "    trace3 = Scatter(\n",
    "        x=df.user_trips,\n",
    "        y=df.demarcation,\n",
    "        name='80%',\n",
    "        yaxis='y2',\n",
    "        line=dict(\n",
    "            color='rgba(128,128,128,.45)',\n",
    "            dash = 'dash',\n",
    "            width=1.5\n",
    "           )\n",
    "    )\n",
    "    data = [trace1, trace2, trace3]\n",
    "    return data"
   ]
  },
  {
   "cell_type": "code",
   "execution_count": 22,
   "metadata": {
    "collapsed": true
   },
   "outputs": [],
   "source": [
    "def lays(df, operator):\n",
    "    layout = Layout(\n",
    "        title='{0}'.format(operator),\n",
    "        titlefont=dict(\n",
    "            color='',\n",
    "            family='',\n",
    "            size=0\n",
    "        ),\n",
    "        font=Font(\n",
    "            color='rgb(128,128,128)',\n",
    "            family='Balto, sans-serif',\n",
    "            size=12\n",
    "        ),\n",
    "        width=1500,\n",
    "        height=623,\n",
    "        paper_bgcolor='rgb(240, 240, 240)',\n",
    "        plot_bgcolor='rgb(240, 240, 240)',\n",
    "        hovermode='compare',\n",
    "        margin=dict(b=250,l=60,r=60,t=65),\n",
    "        showlegend=True,\n",
    "           legend=dict(\n",
    "              x=.83,\n",
    "              y=1.3,\n",
    "              font=dict(\n",
    "                family='Balto, sans-serif',\n",
    "                size=12,\n",
    "                color='rgba(128,128,128,.75)'\n",
    "            ),\n",
    "        ),\n",
    "        annotations=[ dict(\n",
    "                      text=\"\",\n",
    "                      showarrow=False,\n",
    "                      xref=\"paper\", yref=\"paper\",\n",
    "                      textangle=90,\n",
    "                      x=1.029, y=.75,\n",
    "                      font=dict(\n",
    "                      family='Balto, sans-serif',\n",
    "                      size=14,\n",
    "                      color='rgba(243,158,115,.9)'\n",
    "                ),)],\n",
    "        xaxis=dict(\n",
    "          #tickangle=-90\n",
    "        ),\n",
    "        yaxis=dict(\n",
    "            title='Users by Frequency of Trips',\n",
    "            range=[0, max(df['freq_user_trips'])],\n",
    "          tickfont=dict(\n",
    "                color='rgba(34,163,192,.75)'\n",
    "            ),\n",
    "            titlefont=dict(\n",
    "                    family='Balto, sans-serif',\n",
    "                    size=14,\n",
    "                    color='rgba(34,163,192,.75)')\n",
    "        ),\n",
    "        yaxis2=dict(\n",
    "            range=[0,101],\n",
    "            tickfont=dict(\n",
    "                color='rgba(243,158,115,.9)'\n",
    "            ),\n",
    "            tickvals = [0,20,40,60,80,100],\n",
    "            overlaying='y',\n",
    "            side='right'\n",
    "        )\n",
    "    )\n",
    "    return layout"
   ]
  },
  {
   "cell_type": "code",
   "execution_count": 25,
   "metadata": {},
   "outputs": [],
   "source": [
    "def full_bunch(operator, main_df=full_df):\n",
    "    df = get_data(operator, main_df)\n",
    "    data = traces(df) \n",
    "    layout = lays(df,operator)\n",
    "    axes = dict(data=data, layout=layout)\n",
    "    return axes\n"
   ]
  },
  {
   "cell_type": "code",
   "execution_count": 27,
   "metadata": {},
   "outputs": [
    {
     "name": "stdout",
     "output_type": "stream",
     "text": [
      "This is the format of your plot grid:\n",
      "[ (1,1) x1,y1 ]  [ (1,2) x2,y2 ]\n",
      "[ (2,1) x3,y3 ]  [ (2,2) x4,y4 ]\n",
      "\n",
      "['data', 'frames', 'layout']\n"
     ]
    },
    {
     "data": {
      "text/plain": [
       "\"\\nfor x in full_df.operatorclean.unique():\\n    ax = full_bunch(x)\\n\\nfig.append_trace(trace1, 1, 1)\\nfig.append_trace(trace2, 1, 2)\\nfig.append_trace(trace2, 2, 1)\\nfig.append_trace(trace2, 2, 2)\\n\\n\\niplot(fig)\\nplot(fig, auto_open=False, image = 'png', image_filename='plot_image', \\n     output_type='file', image_width=800, image_height=600, \\n     filename='full_test.html', validate=False)\""
      ]
     },
     "execution_count": 27,
     "metadata": {},
     "output_type": "execute_result"
    }
   ],
   "source": [
    "fig = tools.make_subplots(rows=2, cols=2)\n",
    "print dir(fig)\n",
    "\n",
    "for x in full_df.operatorclean.unique():\n",
    "    ax = full_bunch(x)\n",
    "\n",
    "fig.append_trace(trace1, 1, 1)\n",
    "fig.append_trace(trace2, 1, 2)\n",
    "fig.append_trace(trace2, 2, 1)\n",
    "fig.append_trace(trace2, 2, 2)\n",
    "\n",
    "\n",
    "iplot(fig)\n",
    "plot(fig, auto_open=False, image = 'png', image_filename='plot_image', \n",
    "     output_type='file', image_width=800, image_height=600, \n",
    "     filename='full_test.html', validate=False)'''"
   ]
  },
  {
   "cell_type": "code",
   "execution_count": null,
   "metadata": {
    "collapsed": true
   },
   "outputs": [],
   "source": []
  }
 ],
 "metadata": {
  "kernelspec": {
   "display_name": "Python 3",
   "language": "python",
   "name": "python3"
  },
  "language_info": {
   "codemirror_mode": {
    "name": "ipython",
    "version": 3
   },
   "file_extension": ".py",
   "mimetype": "text/x-python",
   "name": "python",
   "nbconvert_exporter": "python",
   "pygments_lexer": "ipython3",
   "version": "3.6.3"
  }
 },
 "nbformat": 4,
 "nbformat_minor": 2
}
