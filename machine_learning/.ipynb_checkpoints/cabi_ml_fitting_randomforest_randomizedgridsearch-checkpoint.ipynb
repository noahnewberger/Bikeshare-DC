{
 "cells": [
  {
   "cell_type": "markdown",
   "metadata": {},
   "source": [
    "# CaBi ML fitting - Random Forest\n",
    "\n",
    "Trying out Random Forest here since it seems so good in terms of minimizing prediction error.\n",
    "\n",
    "Using RandomizedSearchCV and GridSearchCV for hyperparameter tuning.\n",
    "\n",
    "For now, not using PolynomialFeatures for transformation because (1) results are fairly good already and (2) computational speed is a bottleneck."
   ]
  },
  {
   "cell_type": "markdown",
   "metadata": {},
   "source": [
    "## 0. Data load, shaping, and split\n",
    "* Read in data from AWS\n",
    "* Encode time variable (day_of_year) as cyclical\n",
    "* Split into Xtrain, Xtest, ytrain, ytest based on date\n",
    "  * Specify feature and target columns"
   ]
  },
  {
   "cell_type": "code",
   "execution_count": 1,
   "metadata": {},
   "outputs": [
    {
     "name": "stdout",
     "output_type": "stream",
     "text": [
      "We have 2780 instances and 34 features\n"
     ]
    }
   ],
   "source": [
    "# Read in data from AWS\n",
    "\n",
    "from util_functions import *\n",
    "import numpy as np\n",
    "import pandas as pd\n",
    "from pprint import pprint\n",
    "import time\n",
    "\n",
    "start_time = time.perf_counter()\n",
    "\n",
    "set_env_path()\n",
    "conn, cur = aws_connect()\n",
    "\n",
    "# fullquery contains pretty much everything\n",
    "\n",
    "fullquery = \"\"\"\n",
    "SELECT \n",
    "EXTRACT(DOY FROM date) as day_of_year,\n",
    "date,\n",
    "year,\n",
    "quarter,\n",
    "month,\n",
    "day_of_week,\n",
    "daylight_hours,\n",
    "apparenttemperaturehigh,\n",
    "apparenttemperaturehightime,\n",
    "apparenttemperaturelow,\n",
    "apparenttemperaturelowtime,\n",
    "precipintensitymaxtime,\n",
    "sunrisetime,\n",
    "sunsettime,\n",
    "cloudcover,\n",
    "dewpoint,\n",
    "humidity,\n",
    "precipaccumulation,\n",
    "precipintensitymax,\n",
    "precipprobability,\n",
    "rain,\n",
    "snow,\n",
    "visibility,\n",
    "windspeed,\n",
    "us_holiday,\n",
    "nats_single,\n",
    "nats_double,\n",
    "nats_attendance,\n",
    "dc_bike_event,\n",
    "dc_pop,\n",
    "cabi_bikes_avail,\n",
    "cabi_stations_alx,\n",
    "cabi_stations_arl,\n",
    "cabi_stations_ffx,\n",
    "cabi_stations_mcn,\n",
    "cabi_stations_mcs,\n",
    "cabi_stations_wdc,\n",
    "cabi_docks_alx,\n",
    "cabi_docks_arl,\n",
    "cabi_docks_ffx,\n",
    "cabi_docks_mcn,\n",
    "cabi_docks_mcs,\n",
    "cabi_docks_wdc,\n",
    "cabi_stations_tot,\n",
    "cabi_docks_tot,\n",
    "cabi_dur_empty_wdc,\n",
    "cabi_dur_full_wdc,\n",
    "cabi_dur_empty_arl,\n",
    "cabi_dur_full_arl,\n",
    "cabi_dur_full_alx,\n",
    "cabi_dur_empty_alx,\n",
    "cabi_dur_empty_mcs,\n",
    "cabi_dur_full_mcs,\n",
    "cabi_dur_full_mcn,\n",
    "cabi_dur_empty_mcn,\n",
    "cabi_dur_full_ffx,\n",
    "cabi_dur_empty_ffx,\n",
    "cabi_dur_empty_tot,\n",
    "cabi_dur_full_tot,\n",
    "cabi_active_members_day_key,\n",
    "cabi_active_members_monthly,\n",
    "cabi_active_members_annual,\n",
    "cabi_trips_wdc_to_wdc,\n",
    "cabi_trips_wdc_to_wdc_casual\n",
    "from final_db\"\"\"\n",
    "\n",
    "query = \"\"\"\n",
    "SELECT \n",
    "EXTRACT(DOY FROM date) as day_of_year,\n",
    "date,\n",
    "year,\n",
    "month,\n",
    "day_of_week,\n",
    "daylight_hours,\n",
    "apparenttemperaturehigh,\n",
    "apparenttemperaturehightime,\n",
    "apparenttemperaturelow,\n",
    "apparenttemperaturelowtime,\n",
    "precipintensitymaxtime,\n",
    "cloudcover,\n",
    "dewpoint,\n",
    "humidity,\n",
    "precipaccumulation,\n",
    "precipintensitymax,\n",
    "precipprobability,\n",
    "rain,\n",
    "snow,\n",
    "visibility,\n",
    "windspeed,\n",
    "us_holiday,\n",
    "nats_single,\n",
    "nats_double,\n",
    "nats_attendance,\n",
    "dc_bike_event,\n",
    "dc_pop,\n",
    "cabi_stations_tot,\n",
    "cabi_docks_tot,\n",
    "cabi_active_members_day_key,\n",
    "cabi_active_members_monthly,\n",
    "cabi_active_members_annual,\n",
    "cabi_trips_wdc_to_wdc,\n",
    "cabi_trips_wdc_to_wdc_casual\n",
    "from final_db\"\"\"\n",
    "\n",
    "pd.options.display.max_rows = None\n",
    "pd.options.display.max_columns = None\n",
    "\n",
    "df = pd.read_sql(query, con=conn)\n",
    "\n",
    "# Setting date to index for easier splitting\n",
    "df.set_index(df.date, drop=True, inplace=True)\n",
    "df.index = pd.to_datetime(df.index)\n",
    "\n",
    "print(\"We have {} instances and {} features\".format(*df.shape))"
   ]
  },
  {
   "cell_type": "markdown",
   "metadata": {},
   "source": [
    "#### Summary statistics"
   ]
  },
  {
   "cell_type": "code",
   "execution_count": 2,
   "metadata": {
    "scrolled": true
   },
   "outputs": [
    {
     "data": {
      "text/html": [
       "<div>\n",
       "<style scoped>\n",
       "    .dataframe tbody tr th:only-of-type {\n",
       "        vertical-align: middle;\n",
       "    }\n",
       "\n",
       "    .dataframe tbody tr th {\n",
       "        vertical-align: top;\n",
       "    }\n",
       "\n",
       "    .dataframe thead th {\n",
       "        text-align: right;\n",
       "    }\n",
       "</style>\n",
       "<table border=\"1\" class=\"dataframe\">\n",
       "  <thead>\n",
       "    <tr style=\"text-align: right;\">\n",
       "      <th></th>\n",
       "      <th>count</th>\n",
       "      <th>mean</th>\n",
       "      <th>std</th>\n",
       "      <th>min</th>\n",
       "      <th>50%</th>\n",
       "      <th>max</th>\n",
       "    </tr>\n",
       "  </thead>\n",
       "  <tbody>\n",
       "    <tr>\n",
       "      <th>day_of_year</th>\n",
       "      <td>2780.0</td>\n",
       "      <td>182.697</td>\n",
       "      <td>107.702</td>\n",
       "      <td>1.000</td>\n",
       "      <td>182.000</td>\n",
       "      <td>366.000</td>\n",
       "    </tr>\n",
       "    <tr>\n",
       "      <th>year</th>\n",
       "      <td>2780.0</td>\n",
       "      <td>2014.024</td>\n",
       "      <td>2.228</td>\n",
       "      <td>2010.000</td>\n",
       "      <td>2014.000</td>\n",
       "      <td>2018.000</td>\n",
       "    </tr>\n",
       "    <tr>\n",
       "      <th>month</th>\n",
       "      <td>2780.0</td>\n",
       "      <td>6.507</td>\n",
       "      <td>3.522</td>\n",
       "      <td>1.000</td>\n",
       "      <td>7.000</td>\n",
       "      <td>12.000</td>\n",
       "    </tr>\n",
       "    <tr>\n",
       "      <th>day_of_week</th>\n",
       "      <td>2780.0</td>\n",
       "      <td>2.999</td>\n",
       "      <td>2.000</td>\n",
       "      <td>0.000</td>\n",
       "      <td>3.000</td>\n",
       "      <td>6.000</td>\n",
       "    </tr>\n",
       "    <tr>\n",
       "      <th>daylight_hours</th>\n",
       "      <td>2780.0</td>\n",
       "      <td>12.077</td>\n",
       "      <td>2.021</td>\n",
       "      <td>9.000</td>\n",
       "      <td>12.000</td>\n",
       "      <td>15.000</td>\n",
       "    </tr>\n",
       "    <tr>\n",
       "      <th>apparenttemperaturehigh</th>\n",
       "      <td>2780.0</td>\n",
       "      <td>64.306</td>\n",
       "      <td>20.594</td>\n",
       "      <td>2.240</td>\n",
       "      <td>65.890</td>\n",
       "      <td>113.670</td>\n",
       "    </tr>\n",
       "    <tr>\n",
       "      <th>apparenttemperaturehightime</th>\n",
       "      <td>2780.0</td>\n",
       "      <td>15.460</td>\n",
       "      <td>2.352</td>\n",
       "      <td>7.000</td>\n",
       "      <td>16.000</td>\n",
       "      <td>19.000</td>\n",
       "    </tr>\n",
       "    <tr>\n",
       "      <th>apparenttemperaturelow</th>\n",
       "      <td>2780.0</td>\n",
       "      <td>48.574</td>\n",
       "      <td>19.685</td>\n",
       "      <td>-10.840</td>\n",
       "      <td>50.885</td>\n",
       "      <td>90.060</td>\n",
       "    </tr>\n",
       "    <tr>\n",
       "      <th>apparenttemperaturelowtime</th>\n",
       "      <td>2780.0</td>\n",
       "      <td>6.783</td>\n",
       "      <td>4.354</td>\n",
       "      <td>0.000</td>\n",
       "      <td>6.000</td>\n",
       "      <td>23.000</td>\n",
       "    </tr>\n",
       "    <tr>\n",
       "      <th>precipintensitymaxtime</th>\n",
       "      <td>2780.0</td>\n",
       "      <td>15.219</td>\n",
       "      <td>6.569</td>\n",
       "      <td>0.000</td>\n",
       "      <td>19.000</td>\n",
       "      <td>23.000</td>\n",
       "    </tr>\n",
       "    <tr>\n",
       "      <th>cloudcover</th>\n",
       "      <td>2780.0</td>\n",
       "      <td>0.340</td>\n",
       "      <td>0.244</td>\n",
       "      <td>0.000</td>\n",
       "      <td>0.270</td>\n",
       "      <td>1.000</td>\n",
       "    </tr>\n",
       "    <tr>\n",
       "      <th>dewpoint</th>\n",
       "      <td>2780.0</td>\n",
       "      <td>45.143</td>\n",
       "      <td>18.577</td>\n",
       "      <td>-9.730</td>\n",
       "      <td>46.435</td>\n",
       "      <td>75.840</td>\n",
       "    </tr>\n",
       "    <tr>\n",
       "      <th>humidity</th>\n",
       "      <td>2780.0</td>\n",
       "      <td>0.669</td>\n",
       "      <td>0.137</td>\n",
       "      <td>0.210</td>\n",
       "      <td>0.670</td>\n",
       "      <td>0.970</td>\n",
       "    </tr>\n",
       "    <tr>\n",
       "      <th>precipaccumulation</th>\n",
       "      <td>2780.0</td>\n",
       "      <td>0.045</td>\n",
       "      <td>0.527</td>\n",
       "      <td>0.000</td>\n",
       "      <td>0.000</td>\n",
       "      <td>21.427</td>\n",
       "    </tr>\n",
       "    <tr>\n",
       "      <th>precipintensitymax</th>\n",
       "      <td>2780.0</td>\n",
       "      <td>0.029</td>\n",
       "      <td>0.072</td>\n",
       "      <td>0.000</td>\n",
       "      <td>0.001</td>\n",
       "      <td>1.185</td>\n",
       "    </tr>\n",
       "    <tr>\n",
       "      <th>precipprobability</th>\n",
       "      <td>2780.0</td>\n",
       "      <td>0.282</td>\n",
       "      <td>0.373</td>\n",
       "      <td>0.000</td>\n",
       "      <td>0.000</td>\n",
       "      <td>1.000</td>\n",
       "    </tr>\n",
       "    <tr>\n",
       "      <th>rain</th>\n",
       "      <td>2780.0</td>\n",
       "      <td>0.454</td>\n",
       "      <td>0.498</td>\n",
       "      <td>0.000</td>\n",
       "      <td>0.000</td>\n",
       "      <td>1.000</td>\n",
       "    </tr>\n",
       "    <tr>\n",
       "      <th>snow</th>\n",
       "      <td>2780.0</td>\n",
       "      <td>0.040</td>\n",
       "      <td>0.196</td>\n",
       "      <td>0.000</td>\n",
       "      <td>0.000</td>\n",
       "      <td>1.000</td>\n",
       "    </tr>\n",
       "    <tr>\n",
       "      <th>visibility</th>\n",
       "      <td>2780.0</td>\n",
       "      <td>9.306</td>\n",
       "      <td>1.130</td>\n",
       "      <td>1.130</td>\n",
       "      <td>9.790</td>\n",
       "      <td>10.000</td>\n",
       "    </tr>\n",
       "    <tr>\n",
       "      <th>windspeed</th>\n",
       "      <td>2780.0</td>\n",
       "      <td>5.379</td>\n",
       "      <td>3.170</td>\n",
       "      <td>0.030</td>\n",
       "      <td>4.850</td>\n",
       "      <td>25.460</td>\n",
       "    </tr>\n",
       "    <tr>\n",
       "      <th>us_holiday</th>\n",
       "      <td>2780.0</td>\n",
       "      <td>0.031</td>\n",
       "      <td>0.173</td>\n",
       "      <td>0.000</td>\n",
       "      <td>0.000</td>\n",
       "      <td>1.000</td>\n",
       "    </tr>\n",
       "    <tr>\n",
       "      <th>nats_single</th>\n",
       "      <td>2780.0</td>\n",
       "      <td>0.200</td>\n",
       "      <td>0.400</td>\n",
       "      <td>0.000</td>\n",
       "      <td>0.000</td>\n",
       "      <td>1.000</td>\n",
       "    </tr>\n",
       "    <tr>\n",
       "      <th>nats_double</th>\n",
       "      <td>2780.0</td>\n",
       "      <td>0.006</td>\n",
       "      <td>0.078</td>\n",
       "      <td>0.000</td>\n",
       "      <td>0.000</td>\n",
       "      <td>1.000</td>\n",
       "    </tr>\n",
       "    <tr>\n",
       "      <th>nats_attendance</th>\n",
       "      <td>2780.0</td>\n",
       "      <td>6373.641</td>\n",
       "      <td>13052.521</td>\n",
       "      <td>0.000</td>\n",
       "      <td>0.000</td>\n",
       "      <td>69925.000</td>\n",
       "    </tr>\n",
       "    <tr>\n",
       "      <th>dc_bike_event</th>\n",
       "      <td>2780.0</td>\n",
       "      <td>0.009</td>\n",
       "      <td>0.094</td>\n",
       "      <td>0.000</td>\n",
       "      <td>0.000</td>\n",
       "      <td>1.000</td>\n",
       "    </tr>\n",
       "    <tr>\n",
       "      <th>dc_pop</th>\n",
       "      <td>2780.0</td>\n",
       "      <td>662465.171</td>\n",
       "      <td>26420.230</td>\n",
       "      <td>607733.153</td>\n",
       "      <td>665296.583</td>\n",
       "      <td>702021.562</td>\n",
       "    </tr>\n",
       "    <tr>\n",
       "      <th>cabi_stations_tot</th>\n",
       "      <td>2780.0</td>\n",
       "      <td>295.576</td>\n",
       "      <td>124.747</td>\n",
       "      <td>44.000</td>\n",
       "      <td>320.000</td>\n",
       "      <td>497.000</td>\n",
       "    </tr>\n",
       "    <tr>\n",
       "      <th>cabi_docks_tot</th>\n",
       "      <td>2780.0</td>\n",
       "      <td>6105.434</td>\n",
       "      <td>2491.431</td>\n",
       "      <td>869.000</td>\n",
       "      <td>6512.000</td>\n",
       "      <td>10200.000</td>\n",
       "    </tr>\n",
       "    <tr>\n",
       "      <th>cabi_active_members_day_key</th>\n",
       "      <td>2780.0</td>\n",
       "      <td>4900.631</td>\n",
       "      <td>5473.407</td>\n",
       "      <td>0.000</td>\n",
       "      <td>2803.000</td>\n",
       "      <td>16216.000</td>\n",
       "    </tr>\n",
       "    <tr>\n",
       "      <th>cabi_active_members_monthly</th>\n",
       "      <td>2780.0</td>\n",
       "      <td>210.085</td>\n",
       "      <td>134.731</td>\n",
       "      <td>15.000</td>\n",
       "      <td>209.000</td>\n",
       "      <td>607.000</td>\n",
       "    </tr>\n",
       "    <tr>\n",
       "      <th>cabi_active_members_annual</th>\n",
       "      <td>2780.0</td>\n",
       "      <td>24822.440</td>\n",
       "      <td>8466.934</td>\n",
       "      <td>2148.000</td>\n",
       "      <td>27873.000</td>\n",
       "      <td>38492.000</td>\n",
       "    </tr>\n",
       "    <tr>\n",
       "      <th>cabi_trips_wdc_to_wdc</th>\n",
       "      <td>2780.0</td>\n",
       "      <td>6375.501</td>\n",
       "      <td>3185.075</td>\n",
       "      <td>0.000</td>\n",
       "      <td>6240.000</td>\n",
       "      <td>16608.000</td>\n",
       "    </tr>\n",
       "    <tr>\n",
       "      <th>cabi_trips_wdc_to_wdc_casual</th>\n",
       "      <td>2780.0</td>\n",
       "      <td>1395.860</td>\n",
       "      <td>1339.656</td>\n",
       "      <td>0.000</td>\n",
       "      <td>1000.000</td>\n",
       "      <td>9130.000</td>\n",
       "    </tr>\n",
       "  </tbody>\n",
       "</table>\n",
       "</div>"
      ],
      "text/plain": [
       "                               count        mean        std         min  \\\n",
       "day_of_year                   2780.0     182.697    107.702       1.000   \n",
       "year                          2780.0    2014.024      2.228    2010.000   \n",
       "month                         2780.0       6.507      3.522       1.000   \n",
       "day_of_week                   2780.0       2.999      2.000       0.000   \n",
       "daylight_hours                2780.0      12.077      2.021       9.000   \n",
       "apparenttemperaturehigh       2780.0      64.306     20.594       2.240   \n",
       "apparenttemperaturehightime   2780.0      15.460      2.352       7.000   \n",
       "apparenttemperaturelow        2780.0      48.574     19.685     -10.840   \n",
       "apparenttemperaturelowtime    2780.0       6.783      4.354       0.000   \n",
       "precipintensitymaxtime        2780.0      15.219      6.569       0.000   \n",
       "cloudcover                    2780.0       0.340      0.244       0.000   \n",
       "dewpoint                      2780.0      45.143     18.577      -9.730   \n",
       "humidity                      2780.0       0.669      0.137       0.210   \n",
       "precipaccumulation            2780.0       0.045      0.527       0.000   \n",
       "precipintensitymax            2780.0       0.029      0.072       0.000   \n",
       "precipprobability             2780.0       0.282      0.373       0.000   \n",
       "rain                          2780.0       0.454      0.498       0.000   \n",
       "snow                          2780.0       0.040      0.196       0.000   \n",
       "visibility                    2780.0       9.306      1.130       1.130   \n",
       "windspeed                     2780.0       5.379      3.170       0.030   \n",
       "us_holiday                    2780.0       0.031      0.173       0.000   \n",
       "nats_single                   2780.0       0.200      0.400       0.000   \n",
       "nats_double                   2780.0       0.006      0.078       0.000   \n",
       "nats_attendance               2780.0    6373.641  13052.521       0.000   \n",
       "dc_bike_event                 2780.0       0.009      0.094       0.000   \n",
       "dc_pop                        2780.0  662465.171  26420.230  607733.153   \n",
       "cabi_stations_tot             2780.0     295.576    124.747      44.000   \n",
       "cabi_docks_tot                2780.0    6105.434   2491.431     869.000   \n",
       "cabi_active_members_day_key   2780.0    4900.631   5473.407       0.000   \n",
       "cabi_active_members_monthly   2780.0     210.085    134.731      15.000   \n",
       "cabi_active_members_annual    2780.0   24822.440   8466.934    2148.000   \n",
       "cabi_trips_wdc_to_wdc         2780.0    6375.501   3185.075       0.000   \n",
       "cabi_trips_wdc_to_wdc_casual  2780.0    1395.860   1339.656       0.000   \n",
       "\n",
       "                                     50%         max  \n",
       "day_of_year                      182.000     366.000  \n",
       "year                            2014.000    2018.000  \n",
       "month                              7.000      12.000  \n",
       "day_of_week                        3.000       6.000  \n",
       "daylight_hours                    12.000      15.000  \n",
       "apparenttemperaturehigh           65.890     113.670  \n",
       "apparenttemperaturehightime       16.000      19.000  \n",
       "apparenttemperaturelow            50.885      90.060  \n",
       "apparenttemperaturelowtime         6.000      23.000  \n",
       "precipintensitymaxtime            19.000      23.000  \n",
       "cloudcover                         0.270       1.000  \n",
       "dewpoint                          46.435      75.840  \n",
       "humidity                           0.670       0.970  \n",
       "precipaccumulation                 0.000      21.427  \n",
       "precipintensitymax                 0.001       1.185  \n",
       "precipprobability                  0.000       1.000  \n",
       "rain                               0.000       1.000  \n",
       "snow                               0.000       1.000  \n",
       "visibility                         9.790      10.000  \n",
       "windspeed                          4.850      25.460  \n",
       "us_holiday                         0.000       1.000  \n",
       "nats_single                        0.000       1.000  \n",
       "nats_double                        0.000       1.000  \n",
       "nats_attendance                    0.000   69925.000  \n",
       "dc_bike_event                      0.000       1.000  \n",
       "dc_pop                        665296.583  702021.562  \n",
       "cabi_stations_tot                320.000     497.000  \n",
       "cabi_docks_tot                  6512.000   10200.000  \n",
       "cabi_active_members_day_key     2803.000   16216.000  \n",
       "cabi_active_members_monthly      209.000     607.000  \n",
       "cabi_active_members_annual     27873.000   38492.000  \n",
       "cabi_trips_wdc_to_wdc           6240.000   16608.000  \n",
       "cabi_trips_wdc_to_wdc_casual    1000.000    9130.000  "
      ]
     },
     "execution_count": 2,
     "metadata": {},
     "output_type": "execute_result"
    }
   ],
   "source": [
    "df.describe(percentiles=[.5]).round(3).transpose()"
   ]
  },
  {
   "cell_type": "markdown",
   "metadata": {},
   "source": [
    "#### Which feature pairs are highly correlated?"
   ]
  },
  {
   "cell_type": "code",
   "execution_count": 3,
   "metadata": {},
   "outputs": [
    {
     "name": "stdout",
     "output_type": "stream",
     "text": [
      "There are 22 feature pairs with pairwise correlation above 0.75\n",
      "cabi_stations_tot and cabi_docks_tot = 1.000\n",
      "day_of_year and month = 0.997\n",
      "dc_pop and cabi_docks_tot = 0.988\n",
      "dc_pop and cabi_stations_tot = 0.986\n",
      "year and cabi_docks_tot = 0.984\n",
      "year and dc_pop = 0.983\n",
      "year and cabi_stations_tot = 0.981\n",
      "dc_pop and cabi_active_members_annual = 0.978\n",
      "cabi_docks_tot and cabi_active_members_annual = 0.960\n",
      "cabi_stations_tot and cabi_active_members_annual = 0.958\n",
      "year and cabi_active_members_annual = 0.943\n",
      "apparenttemperaturehigh and apparenttemperaturelow = 0.936\n",
      "apparenttemperaturelow and dewpoint = 0.928\n",
      "apparenttemperaturehigh and dewpoint = 0.924\n",
      "year and cabi_active_members_day_key = 0.922\n",
      "nats_single and nats_attendance = 0.914\n",
      "cabi_docks_tot and cabi_active_members_day_key = 0.913\n",
      "cabi_stations_tot and cabi_active_members_day_key = 0.910\n",
      "dc_pop and cabi_active_members_day_key = 0.882\n",
      "daylight_hours and cabi_active_members_monthly = 0.839\n",
      "cabi_active_members_day_key and cabi_active_members_annual = 0.805\n",
      "cabi_trips_wdc_to_wdc and cabi_trips_wdc_to_wdc_casual = 0.770\n"
     ]
    }
   ],
   "source": [
    "def print_highly_correlated(df, features, threshold=0.75):\n",
    "    \"\"\" \n",
    "    Prints highly correlated feature pairs in df. Threshold set at 0.75 by default.\n",
    "    Selects pairs where abs(r) is above the threshold, puts them in a DataFrame,\n",
    "    making sure to avoid duplication, then sorts by abs(r) and prints.\n",
    "    \"\"\"\n",
    "    corr_df = df[features].corr()\n",
    "    correlated_features = np.where(np.abs(corr_df) > threshold)\n",
    "    correlated_features = [(corr_df.iloc[x,y], x, y) for x, y in zip(*correlated_features) if x != y and x < y]\n",
    "    s_corr_list = sorted(correlated_features, key=lambda x: -abs(x[0]))\n",
    "    print(\"There are {} feature pairs with pairwise correlation above {}\".format(len(s_corr_list), threshold))\n",
    "    for v, i, j in s_corr_list:\n",
    "        cols = df[features].columns\n",
    "        print(\"{} and {} = {:0.3f}\".format(corr_df.index[i], corr_df.columns[j], v))\n",
    "        \n",
    "print_highly_correlated(df, df.columns)"
   ]
  },
  {
   "cell_type": "markdown",
   "metadata": {},
   "source": [
    "#### Encode day of year as cyclical"
   ]
  },
  {
   "cell_type": "code",
   "execution_count": 4,
   "metadata": {},
   "outputs": [],
   "source": [
    "df['sin_day_of_year'] = np.sin(2*np.pi*df.day_of_year/365)\n",
    "df['cos_day_of_year'] = np.cos(2*np.pi*df.day_of_year/365)"
   ]
  },
  {
   "cell_type": "code",
   "execution_count": 5,
   "metadata": {},
   "outputs": [
    {
     "data": {
      "image/png": "[encoded data removed]",
      "text/plain": [
       "<matplotlib.figure.Figure at 0x20ff0278320>"
      ]
     },
     "metadata": {},
     "output_type": "display_data"
    }
   ],
   "source": [
    "%matplotlib inline\n",
    "\n",
    "df.sample(100).plot.scatter('sin_day_of_year','cos_day_of_year').set_aspect('equal')"
   ]
  },
  {
   "cell_type": "markdown",
   "metadata": {},
   "source": [
    "#### Train/test split based on date\n",
    "* Training dates = 2013-01-01 to 2016-12-31\n",
    "* Test dates = 2017-01-01 to 2017-09-08\n",
    "* New data (coincides with beginning of dockless pilot) = 2017-09-09 to present"
   ]
  },
  {
   "cell_type": "code",
   "execution_count": 6,
   "metadata": {
    "scrolled": true
   },
   "outputs": [
    {
     "name": "stdout",
     "output_type": "stream",
     "text": [
      "(1461, 36) (251, 36)\n",
      "0.853 percent of the data is in the training set and 0.147 percent is in the test set\n"
     ]
    }
   ],
   "source": [
    "# This can be tweaked, but we use ultimately use 5-fold cross-validation to pick the model\n",
    "\n",
    "train = df.loc['2013-01-01':'2016-12-31']\n",
    "test = df.loc['2017-01-01':'2017-09-08']\n",
    "print(train.shape, test.shape)\n",
    "\n",
    "tr = train.shape[0]\n",
    "te = test.shape[0]\n",
    "trpct = tr/(tr+te)\n",
    "tepct = te/(tr+te)\n",
    "\n",
    "print(\"{:0.3f} percent of the data is in the training set and {:0.3f} percent is in the test set\".format(trpct, tepct))"
   ]
  },
  {
   "cell_type": "code",
   "execution_count": 7,
   "metadata": {},
   "outputs": [
    {
     "name": "stdout",
     "output_type": "stream",
     "text": [
      "(1461, 33) (1461,) (251, 33) (251,)\n"
     ]
    }
   ],
   "source": [
    "# Specify columns to keep and drop for X and y\n",
    "\n",
    "drop_cols = ['date']\n",
    "y_cols = ['cabi_trips_wdc_to_wdc', 'cabi_trips_wdc_to_wdc_casual']\n",
    "\n",
    "feature_cols = [col for col in df.columns if (col not in y_cols) & (col not in drop_cols)]\n",
    "\n",
    "# X y split\n",
    "Xtrain_raw = train[feature_cols]\n",
    "\n",
    "# Our target variable here is all DC to DC trips\n",
    "ytrain = train[y_cols[0]]\n",
    "Xtest_raw = test[feature_cols]\n",
    "ytest = test[y_cols[0]]\n",
    "print(Xtrain_raw.shape, ytrain.shape, Xtest_raw.shape, ytest.shape)"
   ]
  },
  {
   "cell_type": "markdown",
   "metadata": {},
   "source": [
    "## 1. Preprocessing\n",
    "\n",
    "Trying it without any preprocessing first, but keeping PolynomialFeatures here in case we use it later."
   ]
  },
  {
   "cell_type": "code",
   "execution_count": 8,
   "metadata": {},
   "outputs": [
    {
     "name": "stdout",
     "output_type": "stream",
     "text": [
      "(1461, 33) (251, 33)\n"
     ]
    }
   ],
   "source": [
    "from sklearn.preprocessing import PolynomialFeatures\n",
    "\n",
    "'''This cell does nothing with PF(1), but will be useful for introducing PF'''\n",
    "\n",
    "pf = PolynomialFeatures(1, include_bias=False)\n",
    "\n",
    "Xtrain_pf_array = pf.fit_transform(Xtrain_raw)\n",
    "Xtest_pf_array = pf.transform(Xtest_raw)\n",
    "\n",
    "# Get feature names \n",
    "Xtrain_cols = pf.get_feature_names(Xtrain_raw.columns)\n",
    "\n",
    "# Convert arrays to dfs with the new pf column names\n",
    "Xtrain = pd.DataFrame(Xtrain_pf_array, columns=Xtrain_cols)\n",
    "Xtest = pd.DataFrame(Xtest_pf_array, columns=Xtrain_cols)\n",
    "\n",
    "print(Xtrain.shape, Xtest.shape)"
   ]
  },
  {
   "cell_type": "code",
   "execution_count": 9,
   "metadata": {},
   "outputs": [
    {
     "name": "stdout",
     "output_type": "stream",
     "text": [
      "(1712, 33) (1712,)\n",
      "Final vars= 33\n"
     ]
    }
   ],
   "source": [
    "# Appending train and test to get full dataset for cross-validation\n",
    "\n",
    "Xfull = Xtrain.append(Xtest)\n",
    "yfull = ytrain.append(ytest)\n",
    "print(Xfull.shape, yfull.shape)\n",
    "print(\"Final vars=\", Xfull.shape[1])"
   ]
  },
  {
   "cell_type": "markdown",
   "metadata": {},
   "source": [
    "## 2. Model Hyperparameter Tuning\n",
    "* Scoring functions\n",
    "* RandomizedSearchCV\n",
    "* GridSearchCV"
   ]
  },
  {
   "cell_type": "markdown",
   "metadata": {},
   "source": [
    "#### Scoring functions\n",
    "\n",
    "We need these functions to evaluate/score our models."
   ]
  },
  {
   "cell_type": "code",
   "execution_count": 10,
   "metadata": {},
   "outputs": [],
   "source": [
    "from sklearn.metrics import mean_squared_error as mse\n",
    "from sklearn.metrics import r2_score\n",
    "from sklearn.model_selection import cross_val_score\n",
    "from sklearn.model_selection import KFold\n",
    "\n",
    "def score_model(model):\n",
    "    \"\"\" \n",
    "    Fits a model using the training set, predicts using the test set, and then calculates \n",
    "    and reports goodness of fit metrics.\n",
    "    \"\"\"\n",
    "    model.fit(Xtrain, ytrain)\n",
    "    yhat = model.predict(Xtest)\n",
    "    r2 = r2_score(ytest, yhat)\n",
    "    me = mse(ytest, yhat)\n",
    "    print(\"Results from {}: \\nr2={:0.3f} \\nMSE={:0.3f}\".format(model, r2, me))\n",
    "\n",
    "def cv_score(model, cv=5):\n",
    "    \"\"\"\n",
    "    Evaluates a model by 5-fold cross-validation and prints mean and 2*stdev of scores.\n",
    "    Shuffles before cross-validation but sets random_state=7 for reproducibility.\n",
    "    \"\"\"\n",
    "    kf = KFold(n_splits=cv, shuffle=True, random_state=7)\n",
    "    scores = cross_val_score(model, Xfull, yfull, cv=kf)\n",
    "    print(scores)\n",
    "    print(\"Accuracy: {:0.3f} (+/- {:0.3f})\".format(scores.mean(), scores.std() * 2))\n",
    "    "
   ]
  },
  {
   "cell_type": "markdown",
   "metadata": {},
   "source": [
    "#### RandomizedSearchCV\n",
    "\n",
    "We need to find appropriate values for our hyperparameters.\n",
    "\n",
    "We can start by using RandomizedSearchCV to cast a wide net."
   ]
  },
  {
   "cell_type": "code",
   "execution_count": 11,
   "metadata": {},
   "outputs": [],
   "source": [
    "# Number of trees in random forest\n",
    "n_estimators = [int(x) for x in np.linspace(200, 2000, 10)]\n",
    "\n",
    "# Number of features to consider at every split\n",
    "max_features = ['auto', 'sqrt']\n",
    "\n",
    "# Maximum number of levels in tree\n",
    "max_depth = [int(x) for x in np.linspace(10, 110, num = 11)]\n",
    "max_depth.append(None)\n",
    "\n",
    "# Minimum number of samples required to split a node\n",
    "min_samples_split = [2, 5, 10]\n",
    "\n",
    "# Minimum number of samples required at each leaf node\n",
    "min_samples_leaf = [1, 2, 3, 4]\n",
    "\n",
    "# Method of selecting samples for training each tree\n",
    "bootstrap = [True, False]\n",
    "\n",
    "# Create the parameter grid\n",
    "param_distributions = {'n_estimators': n_estimators,\n",
    "               'max_features': max_features,\n",
    "               'max_depth': max_depth,\n",
    "               'min_samples_split': min_samples_split,\n",
    "               'min_samples_leaf': min_samples_leaf,\n",
    "               'bootstrap': bootstrap}"
   ]
  },
  {
   "cell_type": "markdown",
   "metadata": {},
   "source": [
    "Altogether, there are 10 \\* 2 \\* 12 \\* 3 \\* 4 \\* 2 = 5760 combinations.\n",
    "\n",
    "We randomly sample 100 times per fold for a total of 300 fits."
   ]
  },
  {
   "cell_type": "code",
   "execution_count": 12,
   "metadata": {},
   "outputs": [
    {
     "name": "stdout",
     "output_type": "stream",
     "text": [
      "Fitting 3 folds for each of 100 candidates, totalling 300 fits\n"
     ]
    },
    {
     "name": "stderr",
     "output_type": "stream",
     "text": [
      "[Parallel(n_jobs=-1)]: Done  16 tasks      | elapsed:   16.5s\n",
      "[Parallel(n_jobs=-1)]: Done 112 tasks      | elapsed:  2.7min\n",
      "[Parallel(n_jobs=-1)]: Done 272 tasks      | elapsed:  7.2min\n",
      "[Parallel(n_jobs=-1)]: Done 300 out of 300 | elapsed:  8.1min finished\n"
     ]
    },
    {
     "data": {
      "text/plain": [
       "RandomizedSearchCV(cv=KFold(n_splits=3, random_state=7, shuffle=True),\n",
       "          error_score='raise',\n",
       "          estimator=RandomForestRegressor(bootstrap=True, criterion='mse', max_depth=None,\n",
       "           max_features='auto', max_leaf_nodes=None,\n",
       "           min_impurity_decrease=0.0, min_impurity_split=None,\n",
       "           min_samples_leaf=1, min_samples_split=2,\n",
       "           min_weight_fraction_leaf=0.0, n_estimators=10, n_jobs=1,\n",
       "           oob_score=False, random_state=None, verbose=0, warm_start=False),\n",
       "          fit_params=None, iid=True, n_iter=100, n_jobs=-1,\n",
       "          param_distributions={'n_estimators': [200, 400, 600, 800, 1000, 1200, 1400, 1600, 1800, 2000], 'max_features': ['auto', 'sqrt'], 'max_depth': [10, 20, 30, 40, 50, 60, 70, 80, 90, 100, 110, None], 'min_samples_split': [2, 5, 10], 'min_samples_leaf': [1, 2, 3, 4], 'bootstrap': [True, False]},\n",
       "          pre_dispatch='2*n_jobs', random_state=7, refit=True,\n",
       "          return_train_score='warn', scoring=None, verbose=3)"
      ]
     },
     "execution_count": 12,
     "metadata": {},
     "output_type": "execute_result"
    }
   ],
   "source": [
    "from sklearn.model_selection import RandomizedSearchCV\n",
    "from sklearn.ensemble import RandomForestRegressor\n",
    "\n",
    "# Use the random grid to search for best hyperparameters\n",
    "# First create the base model to tune\n",
    "rf = RandomForestRegressor()\n",
    "\n",
    "# Random search of parameters, using 3 fold cross validation, \n",
    "# search across 100 different combinations, and use all available cores\n",
    "cv = KFold(n_splits=3, shuffle=True, random_state=7)\n",
    "ran_search = RandomizedSearchCV(estimator=rf, \n",
    "                               param_distributions=param_distributions, \n",
    "                               n_iter=100, cv=cv, verbose=3, \n",
    "                               random_state=7, n_jobs=-1)\n",
    "\n",
    "# Fit the random search model\n",
    "ran_search.fit(Xtrain, ytrain)"
   ]
  },
  {
   "cell_type": "markdown",
   "metadata": {},
   "source": [
    "We're interested in seeing if there's any improvement between the untuned default RF model and our new one"
   ]
  },
  {
   "cell_type": "code",
   "execution_count": 13,
   "metadata": {
    "scrolled": true
   },
   "outputs": [
    {
     "name": "stdout",
     "output_type": "stream",
     "text": [
      "Cross-validation score for base RF\n",
      "[0.88878312 0.87553247 0.87766392 0.87503306 0.88002983]\n",
      "Accuracy: 0.879 (+/- 0.010)\n",
      "\n",
      "Cross-validation score for RF tuned by RandomizedSearchCV\n",
      "[0.90509278 0.89459966 0.90219784 0.90245882 0.91096627]\n",
      "Accuracy: 0.903 (+/- 0.011)\n",
      "\n",
      "{'bootstrap': False,\n",
      " 'max_depth': 70,\n",
      " 'max_features': 'sqrt',\n",
      " 'min_samples_leaf': 1,\n",
      " 'min_samples_split': 2,\n",
      " 'n_estimators': 1400}\n"
     ]
    }
   ],
   "source": [
    "rf_random = ran_search.best_estimator_\n",
    "\n",
    "print(\"Cross-validation score for base RF\")\n",
    "cv_score(rf)\n",
    "print(\"\\nCross-validation score for RF tuned by RandomizedSearchCV\")\n",
    "cv_score(rf_random)\n",
    "print()\n",
    "\n",
    "# What parameters are used?\n",
    "pprint(ran_search.best_params_)"
   ]
  },
  {
   "cell_type": "markdown",
   "metadata": {},
   "source": [
    "#### GridSearchCV\n",
    "\n",
    "Slight increase in performance with the parameters suggested by RandomizedSearchCV.\n",
    "\n",
    "Next, we use GridSearchCV which iterates over all of the possible combinations instead of randomly sampling.\n",
    "\n",
    "*Note: User input required in the next section to create the GridSearch parameter grid based on RandomizedSearch results.*"
   ]
  },
  {
   "cell_type": "code",
   "execution_count": null,
   "metadata": {},
   "outputs": [],
   "source": [
    "from sklearn.model_selection import GridSearchCV \n",
    "\n",
    "# Create the parameter grid based on the results of the random search \n",
    "param_grid = {\n",
    "    'bootstrap': [False],\n",
    "    'max_depth': [50, 60, 70, 80, 90],\n",
    "    'max_features': ['sqrt'],\n",
    "    'min_samples_leaf': [1, 2, 3],\n",
    "    'min_samples_split': [2, 3, 4],\n",
    "    'n_estimators': [500, 1000, 1400, 1600, 2000]\n",
    "}\n",
    "\n",
    "# Create a base model\n",
    "rf = RandomForestRegressor()\n",
    "\n",
    "# Instantiate the grid search model\n",
    "grid_search = GridSearchCV(estimator=rf, param_grid=param_grid, \n",
    "                          cv=3, n_jobs=-1, verbose=3)"
   ]
  },
  {
   "cell_type": "code",
   "execution_count": null,
   "metadata": {},
   "outputs": [
    {
     "name": "stdout",
     "output_type": "stream",
     "text": [
      "Fitting 3 folds for each of 225 candidates, totalling 675 fits\n"
     ]
    },
    {
     "name": "stderr",
     "output_type": "stream",
     "text": [
      "[Parallel(n_jobs=-1)]: Done  16 tasks      | elapsed:   24.0s\n"
     ]
    }
   ],
   "source": [
    "t = time.perf_counter()\n",
    "\n",
    "# Fit the grid search to the data\n",
    "grid_search.fit(Xtrain, ytrain)\n",
    "\n",
    "elapsed_time = (time.perf_counter() - t)/60\n",
    "print(\"This cell took {:0.2f} minutes to run\".format(elapsed_time))"
   ]
  },
  {
   "cell_type": "markdown",
   "metadata": {},
   "source": [
    "#### Cross-validation\n",
    "\n",
    "How does this new model compare to the other model?"
   ]
  },
  {
   "cell_type": "code",
   "execution_count": null,
   "metadata": {},
   "outputs": [],
   "source": [
    "rf_best = grid_search.best_estimator_\n",
    "\n",
    "print(\"Cross-validation score for untuned RF\")\n",
    "cv_score(rf)\n",
    "print(\"\\nCross-validation score for RF tuned by RandomizedSearchCV\")\n",
    "cv_score(rf_random)\n",
    "print(\"\\nCross-validation score for RF tuned by GridSearchCV\")\n",
    "cv_score(rf_best)"
   ]
  },
  {
   "cell_type": "markdown",
   "metadata": {},
   "source": [
    "How do parameters differ between specifications?"
   ]
  },
  {
   "cell_type": "code",
   "execution_count": null,
   "metadata": {},
   "outputs": [],
   "source": [
    "print(\"RandomizedSearchCV params:\")\n",
    "pprint(ran_search.best_params_)\n",
    "print(\"\\nGridSearchCV params:\")\n",
    "pprint(grid_search.best_params_)"
   ]
  },
  {
   "cell_type": "markdown",
   "metadata": {},
   "source": [
    "Which features are most important?"
   ]
  },
  {
   "cell_type": "code",
   "execution_count": null,
   "metadata": {},
   "outputs": [],
   "source": [
    "feature_importances = pd.DataFrame(rf_best.feature_importances_,\n",
    "                                   index = Xtrain.columns,\n",
    "                                   columns=['importance']).sort_values('importance', ascending=False)\n",
    "feature_importances.head(20)"
   ]
  },
  {
   "cell_type": "code",
   "execution_count": null,
   "metadata": {
    "scrolled": false
   },
   "outputs": [],
   "source": [
    "end_time = (time.perf_counter() - start_time)/60\n",
    "print(\"This notebook took {:0.2f} minutes to run\".format(end_time))"
   ]
  }
 ],
 "metadata": {
  "kernelspec": {
   "display_name": "Python 3",
   "language": "python",
   "name": "python3"
  },
  "language_info": {
   "codemirror_mode": {
    "name": "ipython",
    "version": 3
   },
   "file_extension": ".py",
   "mimetype": "text/x-python",
   "name": "python",
   "nbconvert_exporter": "python",
   "pygments_lexer": "ipython3",
   "version": "3.6.4"
  }
 },
 "nbformat": 4,
 "nbformat_minor": 2
}
